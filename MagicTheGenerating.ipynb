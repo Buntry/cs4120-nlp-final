{
  "nbformat": 4,
  "nbformat_minor": 0,
  "metadata": {
    "colab": {
      "name": "MagicTheGenerating.ipynb",
      "provenance": [],
      "collapsed_sections": []
    },
    "kernelspec": {
      "name": "python3",
      "display_name": "Python 3"
    },
    "language_info": {
      "name": "python"
    },
    "accelerator": "GPU",
    "widgets": {
      "application/vnd.jupyter.widget-state+json": {
        "e74bff87529a4e02b8c32c584e09991c": {
          "model_module": "@jupyter-widgets/controls",
          "model_name": "HBoxModel",
          "state": {
            "_view_name": "HBoxView",
            "_dom_classes": [],
            "_model_name": "HBoxModel",
            "_view_module": "@jupyter-widgets/controls",
            "_model_module_version": "1.5.0",
            "_view_count": null,
            "_view_module_version": "1.5.0",
            "box_style": "",
            "layout": "IPY_MODEL_30634da4425947f486b13cdd47c40aee",
            "_model_module": "@jupyter-widgets/controls",
            "children": [
              "IPY_MODEL_3c32d402ea1f4abb87e000e61d01d326",
              "IPY_MODEL_52358506509d404aa9d572f0b5843358"
            ]
          }
        },
        "30634da4425947f486b13cdd47c40aee": {
          "model_module": "@jupyter-widgets/base",
          "model_name": "LayoutModel",
          "state": {
            "_view_name": "LayoutView",
            "grid_template_rows": null,
            "right": null,
            "justify_content": null,
            "_view_module": "@jupyter-widgets/base",
            "overflow": null,
            "_model_module_version": "1.2.0",
            "_view_count": null,
            "flex_flow": null,
            "width": null,
            "min_width": null,
            "border": null,
            "align_items": null,
            "bottom": null,
            "_model_module": "@jupyter-widgets/base",
            "top": null,
            "grid_column": null,
            "overflow_y": null,
            "overflow_x": null,
            "grid_auto_flow": null,
            "grid_area": null,
            "grid_template_columns": null,
            "flex": null,
            "_model_name": "LayoutModel",
            "justify_items": null,
            "grid_row": null,
            "max_height": null,
            "align_content": null,
            "visibility": null,
            "align_self": null,
            "height": null,
            "min_height": null,
            "padding": null,
            "grid_auto_rows": null,
            "grid_gap": null,
            "max_width": null,
            "order": null,
            "_view_module_version": "1.2.0",
            "grid_template_areas": null,
            "object_position": null,
            "object_fit": null,
            "grid_auto_columns": null,
            "margin": null,
            "display": null,
            "left": null
          }
        },
        "3c32d402ea1f4abb87e000e61d01d326": {
          "model_module": "@jupyter-widgets/controls",
          "model_name": "FloatProgressModel",
          "state": {
            "_view_name": "ProgressView",
            "style": "IPY_MODEL_bd425538b0d24744a94953bde9b2c228",
            "_dom_classes": [],
            "description": "Downloading: ",
            "_model_name": "FloatProgressModel",
            "bar_style": "success",
            "max": 2488,
            "_view_module": "@jupyter-widgets/controls",
            "_model_module_version": "1.5.0",
            "value": 2488,
            "_view_count": null,
            "_view_module_version": "1.5.0",
            "orientation": "horizontal",
            "min": 0,
            "description_tooltip": null,
            "_model_module": "@jupyter-widgets/controls",
            "layout": "IPY_MODEL_8ddabe6cded64ffc8b116cfb1091da19"
          }
        },
        "52358506509d404aa9d572f0b5843358": {
          "model_module": "@jupyter-widgets/controls",
          "model_name": "HTMLModel",
          "state": {
            "_view_name": "HTMLView",
            "style": "IPY_MODEL_b12c4685b1e94897b91ca4317092393f",
            "_dom_classes": [],
            "description": "",
            "_model_name": "HTMLModel",
            "placeholder": "​",
            "_view_module": "@jupyter-widgets/controls",
            "_model_module_version": "1.5.0",
            "value": " 6.08k/? [00:00&lt;00:00, 127kB/s]",
            "_view_count": null,
            "_view_module_version": "1.5.0",
            "description_tooltip": null,
            "_model_module": "@jupyter-widgets/controls",
            "layout": "IPY_MODEL_6d4ae07535c34704bebee4bf349d798c"
          }
        },
        "bd425538b0d24744a94953bde9b2c228": {
          "model_module": "@jupyter-widgets/controls",
          "model_name": "ProgressStyleModel",
          "state": {
            "_view_name": "StyleView",
            "_model_name": "ProgressStyleModel",
            "description_width": "initial",
            "_view_module": "@jupyter-widgets/base",
            "_model_module_version": "1.5.0",
            "_view_count": null,
            "_view_module_version": "1.2.0",
            "bar_color": null,
            "_model_module": "@jupyter-widgets/controls"
          }
        },
        "8ddabe6cded64ffc8b116cfb1091da19": {
          "model_module": "@jupyter-widgets/base",
          "model_name": "LayoutModel",
          "state": {
            "_view_name": "LayoutView",
            "grid_template_rows": null,
            "right": null,
            "justify_content": null,
            "_view_module": "@jupyter-widgets/base",
            "overflow": null,
            "_model_module_version": "1.2.0",
            "_view_count": null,
            "flex_flow": null,
            "width": null,
            "min_width": null,
            "border": null,
            "align_items": null,
            "bottom": null,
            "_model_module": "@jupyter-widgets/base",
            "top": null,
            "grid_column": null,
            "overflow_y": null,
            "overflow_x": null,
            "grid_auto_flow": null,
            "grid_area": null,
            "grid_template_columns": null,
            "flex": null,
            "_model_name": "LayoutModel",
            "justify_items": null,
            "grid_row": null,
            "max_height": null,
            "align_content": null,
            "visibility": null,
            "align_self": null,
            "height": null,
            "min_height": null,
            "padding": null,
            "grid_auto_rows": null,
            "grid_gap": null,
            "max_width": null,
            "order": null,
            "_view_module_version": "1.2.0",
            "grid_template_areas": null,
            "object_position": null,
            "object_fit": null,
            "grid_auto_columns": null,
            "margin": null,
            "display": null,
            "left": null
          }
        },
        "b12c4685b1e94897b91ca4317092393f": {
          "model_module": "@jupyter-widgets/controls",
          "model_name": "DescriptionStyleModel",
          "state": {
            "_view_name": "StyleView",
            "_model_name": "DescriptionStyleModel",
            "description_width": "",
            "_view_module": "@jupyter-widgets/base",
            "_model_module_version": "1.5.0",
            "_view_count": null,
            "_view_module_version": "1.2.0",
            "_model_module": "@jupyter-widgets/controls"
          }
        },
        "6d4ae07535c34704bebee4bf349d798c": {
          "model_module": "@jupyter-widgets/base",
          "model_name": "LayoutModel",
          "state": {
            "_view_name": "LayoutView",
            "grid_template_rows": null,
            "right": null,
            "justify_content": null,
            "_view_module": "@jupyter-widgets/base",
            "overflow": null,
            "_model_module_version": "1.2.0",
            "_view_count": null,
            "flex_flow": null,
            "width": null,
            "min_width": null,
            "border": null,
            "align_items": null,
            "bottom": null,
            "_model_module": "@jupyter-widgets/base",
            "top": null,
            "grid_column": null,
            "overflow_y": null,
            "overflow_x": null,
            "grid_auto_flow": null,
            "grid_area": null,
            "grid_template_columns": null,
            "flex": null,
            "_model_name": "LayoutModel",
            "justify_items": null,
            "grid_row": null,
            "max_height": null,
            "align_content": null,
            "visibility": null,
            "align_self": null,
            "height": null,
            "min_height": null,
            "padding": null,
            "grid_auto_rows": null,
            "grid_gap": null,
            "max_width": null,
            "order": null,
            "_view_module_version": "1.2.0",
            "grid_template_areas": null,
            "object_position": null,
            "object_fit": null,
            "grid_auto_columns": null,
            "margin": null,
            "display": null,
            "left": null
          }
        },
        "af3aa0ef803c4adcb9d51d4ef438f810": {
          "model_module": "@jupyter-widgets/controls",
          "model_name": "HBoxModel",
          "state": {
            "_view_name": "HBoxView",
            "_dom_classes": [],
            "_model_name": "HBoxModel",
            "_view_module": "@jupyter-widgets/controls",
            "_model_module_version": "1.5.0",
            "_view_count": null,
            "_view_module_version": "1.5.0",
            "box_style": "",
            "layout": "IPY_MODEL_efc0838c97a74f3d87f0b44c523df6f3",
            "_model_module": "@jupyter-widgets/controls",
            "children": [
              "IPY_MODEL_1dd1cac363d94eae89f807f92a19922c",
              "IPY_MODEL_ca1911326e6f4dc3868ff2796e1e3ee8"
            ]
          }
        },
        "efc0838c97a74f3d87f0b44c523df6f3": {
          "model_module": "@jupyter-widgets/base",
          "model_name": "LayoutModel",
          "state": {
            "_view_name": "LayoutView",
            "grid_template_rows": null,
            "right": null,
            "justify_content": null,
            "_view_module": "@jupyter-widgets/base",
            "overflow": null,
            "_model_module_version": "1.2.0",
            "_view_count": null,
            "flex_flow": null,
            "width": null,
            "min_width": null,
            "border": null,
            "align_items": null,
            "bottom": null,
            "_model_module": "@jupyter-widgets/base",
            "top": null,
            "grid_column": null,
            "overflow_y": null,
            "overflow_x": null,
            "grid_auto_flow": null,
            "grid_area": null,
            "grid_template_columns": null,
            "flex": null,
            "_model_name": "LayoutModel",
            "justify_items": null,
            "grid_row": null,
            "max_height": null,
            "align_content": null,
            "visibility": null,
            "align_self": null,
            "height": null,
            "min_height": null,
            "padding": null,
            "grid_auto_rows": null,
            "grid_gap": null,
            "max_width": null,
            "order": null,
            "_view_module_version": "1.2.0",
            "grid_template_areas": null,
            "object_position": null,
            "object_fit": null,
            "grid_auto_columns": null,
            "margin": null,
            "display": null,
            "left": null
          }
        },
        "1dd1cac363d94eae89f807f92a19922c": {
          "model_module": "@jupyter-widgets/controls",
          "model_name": "FloatProgressModel",
          "state": {
            "_view_name": "ProgressView",
            "style": "IPY_MODEL_d05e1665c0124634a22cc9fe94618a1f",
            "_dom_classes": [],
            "description": "Downloading: ",
            "_model_name": "FloatProgressModel",
            "bar_style": "success",
            "max": 1554,
            "_view_module": "@jupyter-widgets/controls",
            "_model_module_version": "1.5.0",
            "value": 1554,
            "_view_count": null,
            "_view_module_version": "1.5.0",
            "orientation": "horizontal",
            "min": 0,
            "description_tooltip": null,
            "_model_module": "@jupyter-widgets/controls",
            "layout": "IPY_MODEL_2df1db369bb7473fa26cf3175e5f593e"
          }
        },
        "ca1911326e6f4dc3868ff2796e1e3ee8": {
          "model_module": "@jupyter-widgets/controls",
          "model_name": "HTMLModel",
          "state": {
            "_view_name": "HTMLView",
            "style": "IPY_MODEL_ab864b4143c9435cbae1d656e5cfe90c",
            "_dom_classes": [],
            "description": "",
            "_model_name": "HTMLModel",
            "placeholder": "​",
            "_view_module": "@jupyter-widgets/controls",
            "_model_module_version": "1.5.0",
            "value": " 4.07k/? [00:00&lt;00:00, 10.2kB/s]",
            "_view_count": null,
            "_view_module_version": "1.5.0",
            "description_tooltip": null,
            "_model_module": "@jupyter-widgets/controls",
            "layout": "IPY_MODEL_8ae7ba9028294f4f9d60b76644c06da7"
          }
        },
        "d05e1665c0124634a22cc9fe94618a1f": {
          "model_module": "@jupyter-widgets/controls",
          "model_name": "ProgressStyleModel",
          "state": {
            "_view_name": "StyleView",
            "_model_name": "ProgressStyleModel",
            "description_width": "initial",
            "_view_module": "@jupyter-widgets/base",
            "_model_module_version": "1.5.0",
            "_view_count": null,
            "_view_module_version": "1.2.0",
            "bar_color": null,
            "_model_module": "@jupyter-widgets/controls"
          }
        },
        "2df1db369bb7473fa26cf3175e5f593e": {
          "model_module": "@jupyter-widgets/base",
          "model_name": "LayoutModel",
          "state": {
            "_view_name": "LayoutView",
            "grid_template_rows": null,
            "right": null,
            "justify_content": null,
            "_view_module": "@jupyter-widgets/base",
            "overflow": null,
            "_model_module_version": "1.2.0",
            "_view_count": null,
            "flex_flow": null,
            "width": null,
            "min_width": null,
            "border": null,
            "align_items": null,
            "bottom": null,
            "_model_module": "@jupyter-widgets/base",
            "top": null,
            "grid_column": null,
            "overflow_y": null,
            "overflow_x": null,
            "grid_auto_flow": null,
            "grid_area": null,
            "grid_template_columns": null,
            "flex": null,
            "_model_name": "LayoutModel",
            "justify_items": null,
            "grid_row": null,
            "max_height": null,
            "align_content": null,
            "visibility": null,
            "align_self": null,
            "height": null,
            "min_height": null,
            "padding": null,
            "grid_auto_rows": null,
            "grid_gap": null,
            "max_width": null,
            "order": null,
            "_view_module_version": "1.2.0",
            "grid_template_areas": null,
            "object_position": null,
            "object_fit": null,
            "grid_auto_columns": null,
            "margin": null,
            "display": null,
            "left": null
          }
        },
        "ab864b4143c9435cbae1d656e5cfe90c": {
          "model_module": "@jupyter-widgets/controls",
          "model_name": "DescriptionStyleModel",
          "state": {
            "_view_name": "StyleView",
            "_model_name": "DescriptionStyleModel",
            "description_width": "",
            "_view_module": "@jupyter-widgets/base",
            "_model_module_version": "1.5.0",
            "_view_count": null,
            "_view_module_version": "1.2.0",
            "_model_module": "@jupyter-widgets/controls"
          }
        },
        "8ae7ba9028294f4f9d60b76644c06da7": {
          "model_module": "@jupyter-widgets/base",
          "model_name": "LayoutModel",
          "state": {
            "_view_name": "LayoutView",
            "grid_template_rows": null,
            "right": null,
            "justify_content": null,
            "_view_module": "@jupyter-widgets/base",
            "overflow": null,
            "_model_module_version": "1.2.0",
            "_view_count": null,
            "flex_flow": null,
            "width": null,
            "min_width": null,
            "border": null,
            "align_items": null,
            "bottom": null,
            "_model_module": "@jupyter-widgets/base",
            "top": null,
            "grid_column": null,
            "overflow_y": null,
            "overflow_x": null,
            "grid_auto_flow": null,
            "grid_area": null,
            "grid_template_columns": null,
            "flex": null,
            "_model_name": "LayoutModel",
            "justify_items": null,
            "grid_row": null,
            "max_height": null,
            "align_content": null,
            "visibility": null,
            "align_self": null,
            "height": null,
            "min_height": null,
            "padding": null,
            "grid_auto_rows": null,
            "grid_gap": null,
            "max_width": null,
            "order": null,
            "_view_module_version": "1.2.0",
            "grid_template_areas": null,
            "object_position": null,
            "object_fit": null,
            "grid_auto_columns": null,
            "margin": null,
            "display": null,
            "left": null
          }
        },
        "c25fded50662494dbf110d5dfc145deb": {
          "model_module": "@jupyter-widgets/controls",
          "model_name": "HBoxModel",
          "state": {
            "_view_name": "HBoxView",
            "_dom_classes": [],
            "_model_name": "HBoxModel",
            "_view_module": "@jupyter-widgets/controls",
            "_model_module_version": "1.5.0",
            "_view_count": null,
            "_view_module_version": "1.5.0",
            "box_style": "",
            "layout": "IPY_MODEL_c62f3f54c82848bfa43c422bf5aa5127",
            "_model_module": "@jupyter-widgets/controls",
            "children": [
              "IPY_MODEL_6b14445ceb804a53bf3713f53b21f0e2",
              "IPY_MODEL_3668fb1eecfd47a9b7f2780cd79d4d27"
            ]
          }
        },
        "c62f3f54c82848bfa43c422bf5aa5127": {
          "model_module": "@jupyter-widgets/base",
          "model_name": "LayoutModel",
          "state": {
            "_view_name": "LayoutView",
            "grid_template_rows": null,
            "right": null,
            "justify_content": null,
            "_view_module": "@jupyter-widgets/base",
            "overflow": null,
            "_model_module_version": "1.2.0",
            "_view_count": null,
            "flex_flow": null,
            "width": null,
            "min_width": null,
            "border": null,
            "align_items": null,
            "bottom": null,
            "_model_module": "@jupyter-widgets/base",
            "top": null,
            "grid_column": null,
            "overflow_y": null,
            "overflow_x": null,
            "grid_auto_flow": null,
            "grid_area": null,
            "grid_template_columns": null,
            "flex": null,
            "_model_name": "LayoutModel",
            "justify_items": null,
            "grid_row": null,
            "max_height": null,
            "align_content": null,
            "visibility": null,
            "align_self": null,
            "height": null,
            "min_height": null,
            "padding": null,
            "grid_auto_rows": null,
            "grid_gap": null,
            "max_width": null,
            "order": null,
            "_view_module_version": "1.2.0",
            "grid_template_areas": null,
            "object_position": null,
            "object_fit": null,
            "grid_auto_columns": null,
            "margin": null,
            "display": null,
            "left": null
          }
        },
        "6b14445ceb804a53bf3713f53b21f0e2": {
          "model_module": "@jupyter-widgets/controls",
          "model_name": "FloatProgressModel",
          "state": {
            "_view_name": "ProgressView",
            "style": "IPY_MODEL_9672049438f74b2d93ebbb05f209e2e2",
            "_dom_classes": [],
            "description": "Downloading: ",
            "_model_name": "FloatProgressModel",
            "bar_style": "success",
            "max": 2170,
            "_view_module": "@jupyter-widgets/controls",
            "_model_module_version": "1.5.0",
            "value": 2170,
            "_view_count": null,
            "_view_module_version": "1.5.0",
            "orientation": "horizontal",
            "min": 0,
            "description_tooltip": null,
            "_model_module": "@jupyter-widgets/controls",
            "layout": "IPY_MODEL_5b505a76f8f74f29962601f42aa43697"
          }
        },
        "3668fb1eecfd47a9b7f2780cd79d4d27": {
          "model_module": "@jupyter-widgets/controls",
          "model_name": "HTMLModel",
          "state": {
            "_view_name": "HTMLView",
            "style": "IPY_MODEL_0792c4a2c8184a858ddb0b560384951d",
            "_dom_classes": [],
            "description": "",
            "_model_name": "HTMLModel",
            "placeholder": "​",
            "_view_module": "@jupyter-widgets/controls",
            "_model_module_version": "1.5.0",
            "value": " 5.61k/? [00:00&lt;00:00, 29.1kB/s]",
            "_view_count": null,
            "_view_module_version": "1.5.0",
            "description_tooltip": null,
            "_model_module": "@jupyter-widgets/controls",
            "layout": "IPY_MODEL_99bf2cc965b943e281d11df5f93ad8a5"
          }
        },
        "9672049438f74b2d93ebbb05f209e2e2": {
          "model_module": "@jupyter-widgets/controls",
          "model_name": "ProgressStyleModel",
          "state": {
            "_view_name": "StyleView",
            "_model_name": "ProgressStyleModel",
            "description_width": "initial",
            "_view_module": "@jupyter-widgets/base",
            "_model_module_version": "1.5.0",
            "_view_count": null,
            "_view_module_version": "1.2.0",
            "bar_color": null,
            "_model_module": "@jupyter-widgets/controls"
          }
        },
        "5b505a76f8f74f29962601f42aa43697": {
          "model_module": "@jupyter-widgets/base",
          "model_name": "LayoutModel",
          "state": {
            "_view_name": "LayoutView",
            "grid_template_rows": null,
            "right": null,
            "justify_content": null,
            "_view_module": "@jupyter-widgets/base",
            "overflow": null,
            "_model_module_version": "1.2.0",
            "_view_count": null,
            "flex_flow": null,
            "width": null,
            "min_width": null,
            "border": null,
            "align_items": null,
            "bottom": null,
            "_model_module": "@jupyter-widgets/base",
            "top": null,
            "grid_column": null,
            "overflow_y": null,
            "overflow_x": null,
            "grid_auto_flow": null,
            "grid_area": null,
            "grid_template_columns": null,
            "flex": null,
            "_model_name": "LayoutModel",
            "justify_items": null,
            "grid_row": null,
            "max_height": null,
            "align_content": null,
            "visibility": null,
            "align_self": null,
            "height": null,
            "min_height": null,
            "padding": null,
            "grid_auto_rows": null,
            "grid_gap": null,
            "max_width": null,
            "order": null,
            "_view_module_version": "1.2.0",
            "grid_template_areas": null,
            "object_position": null,
            "object_fit": null,
            "grid_auto_columns": null,
            "margin": null,
            "display": null,
            "left": null
          }
        },
        "0792c4a2c8184a858ddb0b560384951d": {
          "model_module": "@jupyter-widgets/controls",
          "model_name": "DescriptionStyleModel",
          "state": {
            "_view_name": "StyleView",
            "_model_name": "DescriptionStyleModel",
            "description_width": "",
            "_view_module": "@jupyter-widgets/base",
            "_model_module_version": "1.5.0",
            "_view_count": null,
            "_view_module_version": "1.2.0",
            "_model_module": "@jupyter-widgets/controls"
          }
        },
        "99bf2cc965b943e281d11df5f93ad8a5": {
          "model_module": "@jupyter-widgets/base",
          "model_name": "LayoutModel",
          "state": {
            "_view_name": "LayoutView",
            "grid_template_rows": null,
            "right": null,
            "justify_content": null,
            "_view_module": "@jupyter-widgets/base",
            "overflow": null,
            "_model_module_version": "1.2.0",
            "_view_count": null,
            "flex_flow": null,
            "width": null,
            "min_width": null,
            "border": null,
            "align_items": null,
            "bottom": null,
            "_model_module": "@jupyter-widgets/base",
            "top": null,
            "grid_column": null,
            "overflow_y": null,
            "overflow_x": null,
            "grid_auto_flow": null,
            "grid_area": null,
            "grid_template_columns": null,
            "flex": null,
            "_model_name": "LayoutModel",
            "justify_items": null,
            "grid_row": null,
            "max_height": null,
            "align_content": null,
            "visibility": null,
            "align_self": null,
            "height": null,
            "min_height": null,
            "padding": null,
            "grid_auto_rows": null,
            "grid_gap": null,
            "max_width": null,
            "order": null,
            "_view_module_version": "1.2.0",
            "grid_template_areas": null,
            "object_position": null,
            "object_fit": null,
            "grid_auto_columns": null,
            "margin": null,
            "display": null,
            "left": null
          }
        }
      }
    }
  },
  "cells": [
    {
      "cell_type": "markdown",
      "metadata": {
        "id": "oCnJMPPkffrb"
      },
      "source": [
        "# Magic: The Generating\n",
        "### Author: Parker Griep\n",
        "\n",
        "This is a walkthrough of how to use the [repository](https://github.com/Buntry/cs4120-nlp-final) to generate Magic: The Gathering cards. \n",
        "\n",
        "If you haven't already, read the [paper](https://github.com/Buntry/cs4120-nlp-final/blob/main/nlp-report.pdf) to learn about this project. \n",
        "\n",
        "Make sure this notebook's runtime is GPU-accelerated.\n",
        "\n",
        "First thing we'll do is clone over the repository."
      ]
    },
    {
      "cell_type": "code",
      "metadata": {
        "colab": {
          "base_uri": "https://localhost:8080/"
        },
        "id": "SO6LQKVof6lW",
        "outputId": "59421e1c-bf9c-4294-943f-6ee9396bc989"
      },
      "source": [
        "!rm -rf * .config\n",
        "!git clone https://github.com/Buntry/cs4120-nlp-final.git ."
      ],
      "execution_count": 1,
      "outputs": [
        {
          "output_type": "stream",
          "text": [
            "Cloning into '.'...\n",
            "remote: Enumerating objects: 57, done.\u001b[K\n",
            "remote: Counting objects: 100% (57/57), done.\u001b[K\n",
            "remote: Compressing objects: 100% (39/39), done.\u001b[K\n",
            "remote: Total 57 (delta 19), reused 55 (delta 17), pack-reused 0\u001b[K\n",
            "Unpacking objects: 100% (57/57), done.\n"
          ],
          "name": "stdout"
        }
      ]
    },
    {
      "cell_type": "markdown",
      "metadata": {
        "id": "7-v4RYmBhRBF"
      },
      "source": [
        "Now let's use the `download.sh` shell script to download the dataset and the huggingface dependencies."
      ]
    },
    {
      "cell_type": "code",
      "metadata": {
        "colab": {
          "base_uri": "https://localhost:8080/"
        },
        "id": "pErXpClnhZ1_",
        "outputId": "b6716bbf-70b4-4bd8-b560-a524bc45d01e"
      },
      "source": [
        "!sh download.sh"
      ],
      "execution_count": 2,
      "outputs": [
        {
          "output_type": "stream",
          "text": [
            "Collecting git+https://github.com/huggingface/transformers\n",
            "  Cloning https://github.com/huggingface/transformers to /tmp/pip-req-build-inksp6e1\n",
            "  Running command git clone -q https://github.com/huggingface/transformers /tmp/pip-req-build-inksp6e1\n",
            "  Installing build dependencies ... \u001b[?25l\u001b[?25hdone\n",
            "  Getting requirements to build wheel ... \u001b[?25l\u001b[?25hdone\n",
            "    Preparing wheel metadata ... \u001b[?25l\u001b[?25hdone\n",
            "Collecting tokenizers<0.11,>=0.10.1\n",
            "\u001b[?25l  Downloading https://files.pythonhosted.org/packages/ae/04/5b870f26a858552025a62f1649c20d29d2672c02ff3c3fb4c688ca46467a/tokenizers-0.10.2-cp37-cp37m-manylinux2010_x86_64.whl (3.3MB)\n",
            "\u001b[K     |████████████████████████████████| 3.3MB 19.8MB/s \n",
            "\u001b[?25hRequirement already satisfied: numpy>=1.17 in /usr/local/lib/python3.7/dist-packages (from transformers==4.6.0.dev0) (1.19.5)\n",
            "Requirement already satisfied: tqdm>=4.27 in /usr/local/lib/python3.7/dist-packages (from transformers==4.6.0.dev0) (4.41.1)\n",
            "Collecting sacremoses\n",
            "\u001b[?25l  Downloading https://files.pythonhosted.org/packages/c1/92/bd06be977adfe6cd92038f8c263313961980617890daf3f0de636395a3ef/sacremoses-0.0.45.tar.gz (880kB)\n",
            "\u001b[K     |████████████████████████████████| 880kB 48.0MB/s \n",
            "\u001b[?25hRequirement already satisfied: regex!=2019.12.17 in /usr/local/lib/python3.7/dist-packages (from transformers==4.6.0.dev0) (2019.12.20)\n",
            "Requirement already satisfied: importlib-metadata; python_version < \"3.8\" in /usr/local/lib/python3.7/dist-packages (from transformers==4.6.0.dev0) (3.10.1)\n",
            "Requirement already satisfied: requests in /usr/local/lib/python3.7/dist-packages (from transformers==4.6.0.dev0) (2.23.0)\n",
            "Requirement already satisfied: filelock in /usr/local/lib/python3.7/dist-packages (from transformers==4.6.0.dev0) (3.0.12)\n",
            "Requirement already satisfied: packaging in /usr/local/lib/python3.7/dist-packages (from transformers==4.6.0.dev0) (20.9)\n",
            "Requirement already satisfied: six in /usr/local/lib/python3.7/dist-packages (from sacremoses->transformers==4.6.0.dev0) (1.15.0)\n",
            "Requirement already satisfied: click in /usr/local/lib/python3.7/dist-packages (from sacremoses->transformers==4.6.0.dev0) (7.1.2)\n",
            "Requirement already satisfied: joblib in /usr/local/lib/python3.7/dist-packages (from sacremoses->transformers==4.6.0.dev0) (1.0.1)\n",
            "Requirement already satisfied: typing-extensions>=3.6.4; python_version < \"3.8\" in /usr/local/lib/python3.7/dist-packages (from importlib-metadata; python_version < \"3.8\"->transformers==4.6.0.dev0) (3.7.4.3)\n",
            "Requirement already satisfied: zipp>=0.5 in /usr/local/lib/python3.7/dist-packages (from importlib-metadata; python_version < \"3.8\"->transformers==4.6.0.dev0) (3.4.1)\n",
            "Requirement already satisfied: urllib3!=1.25.0,!=1.25.1,<1.26,>=1.21.1 in /usr/local/lib/python3.7/dist-packages (from requests->transformers==4.6.0.dev0) (1.24.3)\n",
            "Requirement already satisfied: certifi>=2017.4.17 in /usr/local/lib/python3.7/dist-packages (from requests->transformers==4.6.0.dev0) (2020.12.5)\n",
            "Requirement already satisfied: chardet<4,>=3.0.2 in /usr/local/lib/python3.7/dist-packages (from requests->transformers==4.6.0.dev0) (3.0.4)\n",
            "Requirement already satisfied: idna<3,>=2.5 in /usr/local/lib/python3.7/dist-packages (from requests->transformers==4.6.0.dev0) (2.10)\n",
            "Requirement already satisfied: pyparsing>=2.0.2 in /usr/local/lib/python3.7/dist-packages (from packaging->transformers==4.6.0.dev0) (2.4.7)\n",
            "Building wheels for collected packages: transformers\n",
            "  Building wheel for transformers (PEP 517) ... \u001b[?25l\u001b[?25hdone\n",
            "  Created wheel for transformers: filename=transformers-4.6.0.dev0-cp37-none-any.whl size=2112159 sha256=b53a3768229998cf55ea6f5e716ca382646992fa079bb2701e76e91294cef941\n",
            "  Stored in directory: /tmp/pip-ephem-wheel-cache-x8v_rmxs/wheels/70/d3/52/b3fa4f8b8ef04167ac62e5bb2accb62ae764db2a378247490e\n",
            "Successfully built transformers\n",
            "Building wheels for collected packages: sacremoses\n",
            "  Building wheel for sacremoses (setup.py) ... \u001b[?25l\u001b[?25hdone\n",
            "  Created wheel for sacremoses: filename=sacremoses-0.0.45-cp37-none-any.whl size=894380 sha256=e097499fabf41bb8ea35ea88e44b8a86e8dff399574225c57bbfab63dc1622d6\n",
            "  Stored in directory: /root/.cache/pip/wheels/94/25/3e/96b676a0ee4c1ef81bbd8ebb703d5f08bd2b838415fba4a594\n",
            "Successfully built sacremoses\n",
            "Installing collected packages: tokenizers, sacremoses, transformers\n",
            "Successfully installed sacremoses-0.0.45 tokenizers-0.10.2 transformers-4.6.0.dev0\n",
            "Collecting git+https://github.com/huggingface/datasets\n",
            "  Cloning https://github.com/huggingface/datasets to /tmp/pip-req-build-wn3r4sli\n",
            "  Running command git clone -q https://github.com/huggingface/datasets /tmp/pip-req-build-wn3r4sli\n",
            "Requirement already satisfied: numpy>=1.17 in /usr/local/lib/python3.7/dist-packages (from datasets==1.5.0.dev0) (1.19.5)\n",
            "Requirement already satisfied: pyarrow>=1.0.0 in /usr/local/lib/python3.7/dist-packages (from datasets==1.5.0.dev0) (3.0.0)\n",
            "Requirement already satisfied: dill in /usr/local/lib/python3.7/dist-packages (from datasets==1.5.0.dev0) (0.3.3)\n",
            "Requirement already satisfied: pandas in /usr/local/lib/python3.7/dist-packages (from datasets==1.5.0.dev0) (1.1.5)\n",
            "Requirement already satisfied: requests>=2.19.0 in /usr/local/lib/python3.7/dist-packages (from datasets==1.5.0.dev0) (2.23.0)\n",
            "Requirement already satisfied: tqdm<4.50.0,>=4.27 in /usr/local/lib/python3.7/dist-packages (from datasets==1.5.0.dev0) (4.41.1)\n",
            "Collecting xxhash\n",
            "\u001b[?25l  Downloading https://files.pythonhosted.org/packages/7d/4f/0a862cad26aa2ed7a7cd87178cbbfa824fc1383e472d63596a0d018374e7/xxhash-2.0.2-cp37-cp37m-manylinux2010_x86_64.whl (243kB)\n",
            "\u001b[K     |████████████████████████████████| 245kB 17.1MB/s \n",
            "\u001b[?25hRequirement already satisfied: multiprocess in /usr/local/lib/python3.7/dist-packages (from datasets==1.5.0.dev0) (0.70.11.1)\n",
            "Collecting fsspec\n",
            "\u001b[?25l  Downloading https://files.pythonhosted.org/packages/e9/91/2ef649137816850fa4f4c97c6f2eabb1a79bf0aa2c8ed198e387e373455e/fsspec-2021.4.0-py3-none-any.whl (108kB)\n",
            "\u001b[K     |████████████████████████████████| 112kB 32.7MB/s \n",
            "\u001b[?25hCollecting huggingface_hub<0.1.0\n",
            "  Downloading https://files.pythonhosted.org/packages/a1/88/7b1e45720ecf59c6c6737ff332f41c955963090a18e72acbcbeac6b25e86/huggingface_hub-0.0.8-py3-none-any.whl\n",
            "Requirement already satisfied: packaging in /usr/local/lib/python3.7/dist-packages (from datasets==1.5.0.dev0) (20.9)\n",
            "Requirement already satisfied: importlib_metadata in /usr/local/lib/python3.7/dist-packages (from datasets==1.5.0.dev0) (3.10.1)\n",
            "Requirement already satisfied: python-dateutil>=2.7.3 in /usr/local/lib/python3.7/dist-packages (from pandas->datasets==1.5.0.dev0) (2.8.1)\n",
            "Requirement already satisfied: pytz>=2017.2 in /usr/local/lib/python3.7/dist-packages (from pandas->datasets==1.5.0.dev0) (2018.9)\n",
            "Requirement already satisfied: idna<3,>=2.5 in /usr/local/lib/python3.7/dist-packages (from requests>=2.19.0->datasets==1.5.0.dev0) (2.10)\n",
            "Requirement already satisfied: chardet<4,>=3.0.2 in /usr/local/lib/python3.7/dist-packages (from requests>=2.19.0->datasets==1.5.0.dev0) (3.0.4)\n",
            "Requirement already satisfied: urllib3!=1.25.0,!=1.25.1,<1.26,>=1.21.1 in /usr/local/lib/python3.7/dist-packages (from requests>=2.19.0->datasets==1.5.0.dev0) (1.24.3)\n",
            "Requirement already satisfied: certifi>=2017.4.17 in /usr/local/lib/python3.7/dist-packages (from requests>=2.19.0->datasets==1.5.0.dev0) (2020.12.5)\n",
            "Requirement already satisfied: filelock in /usr/local/lib/python3.7/dist-packages (from huggingface_hub<0.1.0->datasets==1.5.0.dev0) (3.0.12)\n",
            "Requirement already satisfied: pyparsing>=2.0.2 in /usr/local/lib/python3.7/dist-packages (from packaging->datasets==1.5.0.dev0) (2.4.7)\n",
            "Requirement already satisfied: zipp>=0.5 in /usr/local/lib/python3.7/dist-packages (from importlib_metadata->datasets==1.5.0.dev0) (3.4.1)\n",
            "Requirement already satisfied: typing-extensions>=3.6.4; python_version < \"3.8\" in /usr/local/lib/python3.7/dist-packages (from importlib_metadata->datasets==1.5.0.dev0) (3.7.4.3)\n",
            "Requirement already satisfied: six>=1.5 in /usr/local/lib/python3.7/dist-packages (from python-dateutil>=2.7.3->pandas->datasets==1.5.0.dev0) (1.15.0)\n",
            "Building wheels for collected packages: datasets\n",
            "  Building wheel for datasets (setup.py) ... \u001b[?25l\u001b[?25hdone\n",
            "  Created wheel for datasets: filename=datasets-1.5.0.dev0-cp37-none-any.whl size=197245 sha256=bc13f4ec63e2e2ecdf1b485dd7af39323ce9f8d5d7b5429bdf2b79d3ad6b2484\n",
            "  Stored in directory: /tmp/pip-ephem-wheel-cache-b334kygi/wheels/ef/76/f4/b4ebbfebddcfdccc0378b9d9c9332b141161feb1b31f8a17c7\n",
            "Successfully built datasets\n",
            "Installing collected packages: xxhash, fsspec, huggingface-hub, datasets\n",
            "Successfully installed datasets-1.5.0.dev0 fsspec-2021.4.0 huggingface-hub-0.0.8 xxhash-2.0.2\n",
            "rm: cannot remove 'AtomicCards.json': No such file or directory\n",
            "--2021-04-19 00:37:05--  https://mtgjson.com/api/v5/AtomicCards.json\n",
            "Resolving mtgjson.com (mtgjson.com)... 104.21.64.186, 172.67.154.80, 2606:4700:3030::6815:40ba, ...\n",
            "Connecting to mtgjson.com (mtgjson.com)|104.21.64.186|:443... connected.\n",
            "HTTP request sent, awaiting response... 200 OK\n",
            "Length: 86189707 (82M) [application/json]\n",
            "Saving to: ‘AtomicCards.json’\n",
            "\n",
            "AtomicCards.json    100%[===================>]  82.20M   205MB/s    in 0.4s    \n",
            "\n",
            "2021-04-19 00:37:06 (205 MB/s) - ‘AtomicCards.json’ saved [86189707/86189707]\n",
            "\n"
          ],
          "name": "stdout"
        }
      ]
    },
    {
      "cell_type": "markdown",
      "metadata": {
        "id": "8xsELpduhmaQ"
      },
      "source": [
        "Next, let's generate the dataset using the `gen_dataset.py` script."
      ]
    },
    {
      "cell_type": "code",
      "metadata": {
        "id": "RnJovaHyhrvr"
      },
      "source": [
        "from gen_dataset import gen_dataset\n",
        "\n",
        "atomic_cards_path = \"./AtomicCards.json\"\n",
        "train_path = \"./dataset/cards_train.txt\"\n",
        "validation_path = \"./dataset/cards_val.txt\"\n",
        "\n",
        "# Let's use a subset of the data\n",
        "n_cards = 5_000\n",
        "\n",
        "gen_dataset(atomic_cards_path, train_path, validation_path, n_cards=n_cards)"
      ],
      "execution_count": 3,
      "outputs": []
    },
    {
      "cell_type": "markdown",
      "metadata": {
        "id": "kq5J2uCTiFiB"
      },
      "source": [
        "Let's take a look at the data"
      ]
    },
    {
      "cell_type": "code",
      "metadata": {
        "colab": {
          "base_uri": "https://localhost:8080/"
        },
        "id": "lhQHy6fgiKNs",
        "outputId": "8bd589e6-09b6-470e-da94-bf34bf3ddd41"
      },
      "source": [
        "!head ./dataset/cards_train.txt"
      ],
      "execution_count": 4,
      "outputs": [
        {
          "output_type": "stream",
          "text": [
            "<s> target player draws x cards shuffle CARDNAME into its owners library </s>\n",
            "<s> {t} : CARDNAME deals 1 damage to any target activate only during your turn before attackers are declared </s>\n",
            "<s> flying <lf> other spirit creatures you control get +1/+0 </s>\n",
            "<s> flying <lf> sacrifice CARDNAME : destroy target black creature </s>\n",
            "<s> {t} : add {u} or {c} {u} spend this mana only to pay cumulative upkeep costs </s>\n",
            "<s> draft CARDNAME face up <lf> immediately after the draft you may reveal a card in your card pool each other player may offer you one card in their card pool in exchange you may accept any one offer <lf> {t} : draw a card then discard a card </s>\n",
            "<s> protection from white <lf> at the beginning of your upkeep sacrifice CARDNAME unless you sacrifice a land </s>\n",
            "<s> choose one  <em>  <lf> • destroy target creature with flying <lf> • destroy target enchantment </s>\n",
            "<s> flying vigilance lifelink <lf> fabricate 2  <lf> other creatures you control get +1/+1 </s>\n",
            "<s> protection from white <lf> cycling {2}  </s>\n"
          ],
          "name": "stdout"
        }
      ]
    },
    {
      "cell_type": "markdown",
      "metadata": {
        "id": "wfXtIYKpiSCD"
      },
      "source": [
        "Now we need to train our tokenizer on the files. You can use one or both, for now, let's train the tokenizer on both."
      ]
    },
    {
      "cell_type": "code",
      "metadata": {
        "id": "iab0B4z9iaLH"
      },
      "source": [
        "from tokenize_cards import tokenize_cards\n",
        "\n",
        "tokenizer_path = './tokenizer'\n",
        "\n",
        "tokenize_cards(files=[train_path, validation_path], output_dir=tokenizer_path)"
      ],
      "execution_count": 5,
      "outputs": []
    },
    {
      "cell_type": "code",
      "metadata": {
        "colab": {
          "base_uri": "https://localhost:8080/"
        },
        "id": "nRXkYIU3isZ0",
        "outputId": "e938ab4c-08c4-4bf5-d11c-cdfda9121b58"
      },
      "source": [
        "!head ./tokenizer/vocab.json"
      ],
      "execution_count": 6,
      "outputs": [
        {
          "output_type": "stream",
          "text": [
            "{\"<pad>\":0,\"<s>\":1,\"</s>\":2,\"<unk>\":3,\"<em>\":4,\":\":5,\"<lf>\":6,\"<mask>\":7,\"CARDNAME\":8,\"{w}\":9,\"{u}\":10,\"{b}\":11,\"{r}\":12,\"{g}\":13,\"{t}\":14,\"{s}\":15,\"{c}\":16,\"{1}\":17,\"{2}\":18,\"{3}\":19,\"{4}\":20,\"{5}\":21,\"{6}\":22,\"{7}\":23,\"{8}\":24,\"{9}\":25,\"{10}\":26,\"!\":27,\"\\\"\":28,\"#\":29,\"$\":30,\"%\":31,\"&\":32,\"'\":33,\"(\":34,\")\":35,\"*\":36,\"+\":37,\",\":38,\"-\":39,\".\":40,\"/\":41,\"0\":42,\"1\":43,\"2\":44,\"3\":45,\"4\":46,\"5\":47,\"6\":48,\"7\":49,\"8\":50,\"9\":51,\";\":52,\"<\":53,\"=\":54,\">\":55,\"?\":56,\"@\":57,\"A\":58,\"B\":59,\"C\":60,\"D\":61,\"E\":62,\"F\":63,\"G\":64,\"H\":65,\"I\":66,\"J\":67,\"K\":68,\"L\":69,\"M\":70,\"N\":71,\"O\":72,\"P\":73,\"Q\":74,\"R\":75,\"S\":76,\"T\":77,\"U\":78,\"V\":79,\"W\":80,\"X\":81,\"Y\":82,\"Z\":83,\"[\":84,\"\\\\\":85,\"]\":86,\"^\":87,\"_\":88,\"`\":89,\"a\":90,\"b\":91,\"c\":92,\"d\":93,\"e\":94,\"f\":95,\"g\":96,\"h\":97,\"i\":98,\"j\":99,\"k\":100,\"l\":101,\"m\":102,\"n\":103,\"o\":104,\"p\":105,\"q\":106,\"r\":107,\"s\":108,\"t\":109,\"u\":110,\"v\":111,\"w\":112,\"x\":113,\"y\":114,\"z\":115,\"{\":116,\"|\":117,\"}\":118,\"~\":119,\"¡\":120,\"¢\":121,\"£\":122,\"¤\":123,\"¥\":124,\"¦\":125,\"§\":126,\"¨\":127,\"©\":128,\"ª\":129,\"«\":130,\"¬\":131,\"®\":132,\"¯\":133,\"°\":134,\"±\":135,\"²\":136,\"³\":137,\"´\":138,\"µ\":139,\"¶\":140,\"·\":141,\"¸\":142,\"¹\":143,\"º\":144,\"»\":145,\"¼\":146,\"½\":147,\"¾\":148,\"¿\":149,\"À\":150,\"Á\":151,\"Â\":152,\"Ã\":153,\"Ä\":154,\"Å\":155,\"Æ\":156,\"Ç\":157,\"È\":158,\"É\":159,\"Ê\":160,\"Ë\":161,\"Ì\":162,\"Í\":163,\"Î\":164,\"Ï\":165,\"Ð\":166,\"Ñ\":167,\"Ò\":168,\"Ó\":169,\"Ô\":170,\"Õ\":171,\"Ö\":172,\"×\":173,\"Ø\":174,\"Ù\":175,\"Ú\":176,\"Û\":177,\"Ü\":178,\"Ý\":179,\"Þ\":180,\"ß\":181,\"à\":182,\"á\":183,\"â\":184,\"ã\":185,\"ä\":186,\"å\":187,\"æ\":188,\"ç\":189,\"è\":190,\"é\":191,\"ê\":192,\"ë\":193,\"ì\":194,\"í\":195,\"î\":196,\"ï\":197,\"ð\":198,\"ñ\":199,\"ò\":200,\"ó\":201,\"ô\":202,\"õ\":203,\"ö\":204,\"÷\":205,\"ø\":206,\"ù\":207,\"ú\":208,\"û\":209,\"ü\":210,\"ý\":211,\"þ\":212,\"ÿ\":213,\"Ā\":214,\"ā\":215,\"Ă\":216,\"ă\":217,\"Ą\":218,\"ą\":219,\"Ć\":220,\"ć\":221,\"Ĉ\":222,\"ĉ\":223,\"Ċ\":224,\"ċ\":225,\"Č\":226,\"č\":227,\"Ď\":228,\"ď\":229,\"Đ\":230,\"đ\":231,\"Ē\":232,\"ē\":233,\"Ĕ\":234,\"ĕ\":235,\"Ė\":236,\"ė\":237,\"Ę\":238,\"ę\":239,\"Ě\":240,\"ě\":241,\"Ĝ\":242,\"ĝ\":243,\"Ğ\":244,\"ğ\":245,\"Ġ\":246,\"ġ\":247,\"Ģ\":248,\"ģ\":249,\"Ĥ\":250,\"ĥ\":251,\"Ħ\":252,\"ħ\":253,\"Ĩ\":254,\"ĩ\":255,\"Ī\":256,\"ī\":257,\"Ĭ\":258,\"ĭ\":259,\"Į\":260,\"į\":261,\"İ\":262,\"ı\":263,\"Ĳ\":264,\"ĳ\":265,\"Ĵ\":266,\"ĵ\":267,\"Ķ\":268,\"ķ\":269,\"ĸ\":270,\"Ĺ\":271,\"ĺ\":272,\"Ļ\":273,\"ļ\":274,\"Ľ\":275,\"ľ\":276,\"Ŀ\":277,\"ŀ\":278,\"Ł\":279,\"ł\":280,\"Ń\":281,\"•\":282,\"−\":283,\"re\":284,\"at\":285,\"nt\":286,\"th\":287,\"er\":288,\"ar\":289,\"ou\":290,\"</\":291,\"an\":292,\"en\":293,\"you\":294,\"reat\":295,\"creat\":296,\"ge\":297,\"ure\":298,\"creature\":299,\"in\":300,\"lf\":301,\"the\":302,\"get\":303,\"AM\":304,\"AR\":305,\"CAR\":306,\"DN\":307,\"AME\":308,\"CARDN\":309,\"ro\":310,\"ac\":311,\"le\":312,\"ard\":313,\"co\":314,\"on\":315,\"to\":316,\"if\":317,\"of\":318,\"st\":319,\"and\":320,\"al\":321,\"card\":322,\"ent\":323,\"tar\":324,\"target\":325,\"el\":326,\"it\":327,\"ay\":328,\"or\":329,\"ur\":330,\"wh\":331,\"att\":332,\"tur\":333,\"turn\":334,\"ing\":335,\"rol\":336,\"cont\":337,\"control\":338,\"is\":339,\"your\":340,\"ch\":341,\"am\":342,\"de\":343,\"ers\":344,\"when\":345,\"fi\":346,\"ve\":347,\"eld\":348,\"il\":349,\"as\":350,\"batt\":351,\"ant\":352,\"battle\":353,\"field\":354,\"battlefield\":355,\"ed\":356,\"unt\":357,\"es\":358,\"pl\":359,\"end\":360,\"ra\":361,\"/+\":362,\"that\":363,\"ach\":364,\"ly\":365,\"play\":366,\"be\":367,\"age\":368,\"dam\":369,\"damage\":370,\"until\":371,\"this\":372,\"ic\":373,\"each\":374,\"ount\":375,\"ut\":376,\"enters\":377,\"sp\":378,\"cards\":379,\"man\":380,\"deal\":381,\"ev\":382,\"pp\":383,\"player\":384,\"count\":385,\"ain\":386,\"put\":387,\"ench\":388,\"enchant\":389,\"creatures\":390,\"fly\":391,\"flying\":392,\"ever\":393,\"whenever\":394,\"os\":395,\"wi\":396,\"with\":397,\"ell\":398,\"ast\":399,\"fro\":400,\"from\":401,\"ex\":402,\"ack\":403,\"gain\":404,\"ad\":405,\"spell\":406,\"bl\":407,\"may\":408,\"lif\":409,\"gets\":410,\"mb\":411,\"deals\":412,\"hand\":413,\"rif\":414,\"sac\":415,\"rific\":416,\"sacrific\":417,\"ow\":418,\"life\":419,\"land\":420,\"its\":421,\"ib\":422,\"counter\":423,\"dra\":424,\"gra\":425,\"grave\":426,\"act\":427,\"yard\":428,\"graveyard\":429,\"ep\":430,\"ary\":431,\"opp\":432,\"onent\":433,\"opponent\":434,\"cast\":435,\"sacrifice\":436,\"for\":437,\"add\":438,\"ose\":439,\"lib\":440,\"libr\":441,\"library\":442,\"ke\":443,\"oth\":444,\"nto\":445,\"up\":446,\"attack\":447,\"ile\":448,\"other\":449,\"ap\":450,\"draw\":451,\"qu\":452,\"exile\":453,\"per\":454,\"dest\":455,\"equ\":456,\"all\":457,\"manent\":458,\"permanent\":459,\"any\":460,\"blo\":461,\"ken\":462,\"gin\":463,\"ck\":464,\"ning\":465,\"les\":466,\"begin\":467,\"beginning\":468,\"return\":469,\"art\":470,\"cho\":471,\"block\":472,\"tw\":473,\"mo\":474,\"mana\":475,\"enchanted\":476,\"less\":477,\"two\":478,\"cant\":479,\"ir\":480,\"token\":481,\"roy\":482,\"destroy\":483,\"em\":484,\"one\":485,\"then\":486,\"ifact\":487,\"artifact\":488,\"un\":489,\"do\":490,\"pped\":491,\"has\":492,\"own\":493,\"dis\":494,\"amp\":495,\"choose\":496,\"create\":497,\"sh\":498,\"di\":499,\"gains\":500,\"umb\":501,\"umber\":502,\"ave\":503,\"number\":504,\"ion\":505,\"ong\":506,\"ate\":507,\"keep\":508,\"upkeep\":509,\"into\":510,\"pay\":511,\"comb\":512,\"tr\":513,\"combat\":514,\"apped\":515,\"untap\":516,\"owners\":517,\"non\":518,\"reve\":519,\"col\":520,\"top\":521,\"equal\":522,\"have\":523,\"pow\":524,\"power\":525,\"their\":526,\"color\":527,\"ld\":528,\"ri\":529,\"counters\":530,\"der\":531,\"ue\":532,\"ample\":533,\"trample\":534,\"ce\":535,\"inst\":536,\"com\":537,\"more\":538,\"ment\":539,\"step\":540,\"ig\":541,\"iv\":542,\"controll\":543,\"ere\":544,\"reveal\":545,\"cost\":546,\"are\":547,\"ct\":548,\"thre\":549,\"alk\":550,\"se\":551,\"walk\":552,\"ould\":553,\"onto\":554,\"/-\":555,\"would\":556,\"only\":557,\"attacks\":558,\"controls\":559,\"becom\":560,\"ab\":561,\"ff\":562,\"another\":563,\"black\":564,\"activ\":565,\"tapped\":566,\"three\":567,\"arch\":568,\"stri\":569,\"discard\":570,\"ext\":571,\"ite\":572,\"dies\":573,\"equi\":574,\"strike\":575,\"tap\":576,\"white\":577,\"next\":578,\"hast\":579,\"long\":580,\"haste\":581,\"uff\":582,\"shuff\":583,\"fl\":584,\"oses\":585,\"gh\":586,\"tou\":587,\"becomes\":588,\"controller\":589,\"dealt\":590,\"ty\":591,\"enchantment\":592,\"spells\":593,\"pro\":594,\"anes\":595,\"ame\":596,\"planes\":597,\"planeswalk\":598,\"rst\":599,\"first\":600,\"under\":601,\"red\":602,\"search\":603,\"way\":604,\"ot\":605,\"blocked\":606,\"ess\":607,\"typ\":608,\"our\":609,\"unless\":610,\"attacking\":611,\"loses\":612,\"where\":613,\"dur\":614,\"during\":615,\"rev\":616,\"opponents\":617,\"shuffle\":618,\"val\":619,\"ance\":620,\"activate\":621,\"value\":622,\"vig\":623,\"them\":624,\"ilance\":625,\"ash\":626,\"planeswalker\":627,\"vigilance\":628,\"ness\":629,\"prev\":630,\"prevent\":631,\"ead\":632,\"instead\":633,\"they\":634,\"ition\":635,\"addition\":636,\"discards\":637,\"by\":638,\"ery\":639,\"flash\":640,\"reen\":641,\"ilit\":642,\"move\":643,\"abilit\":644,\"cery\":645,\"sor\":646,\"sorcery\":647,\"green\":648,\"ect\":649,\"rest\":650,\"remove\":651,\"cl\":652,\"players\":653,\"than\":654,\"lo\":655,\"lands\":656,\"ath\":657,\"ghness\":658,\"toughness\":659,\"gen\":660,\"regen\":661,\"those\":662,\"permanents\":663,\"regener\":664,\"among\":665,\"fend\":666,\"defend\":667,\"nonland\":668,\"tokens\":669,\"ace\":670,\"ink\":671,\"type\":672,\"fo\":673,\"im\":674,\"elink\":675,\"lifelink\":676,\"ick\":677,\"additional\":678,\"ill\":679,\"equip\":680,\"kick\":681,\"instant\":682,\"[−\":683,\"bas\":684,\"cy\":685,\"chos\":686,\"does\":687,\"chosen\":688,\"was\":689,\"ection\":690,\"prot\":691,\"ft\":692,\"ice\":693,\"protection\":694,\"four\":695,\"ru\":696,\"ated\":697,\"equipped\":698,\"lose\":699,\"ok\":700,\"cop\":701,\"great\":702,\"blue\":703,\"ability\":704,\"look\":705,\"name\":706,\"tom\":707,\"ruct\":708,\"bot\":709,\"sacrifices\":710,\"bottom\":711,\"copy\":712,\"order\":713,\"untapped\":714,\"attach\":715,\"id\":716,\"om\":717,\"dont\":718,\"mu\":719,\"ol\":720,\"tal\":721,\"CARDNAMEs\":722,\"tim\":723,\"indest\":724,\"ible\":725,\"greater\":726,\"ructible\":727,\"indestructible\":728,\"cling\":729,\"basic\":730,\"cycling\":731,\"mill\":732,\"can\":733,\"exiled\":734,\"regenerate\":735,\"defender\":736,\"back\":737,\"sc\":738,\"aur\":739,\"ies\":740,\"led\":741,\"nam\":742,\"sour\":743,\"targets\":744,\"ble\":745,\"dou\":746,\"out\":747,\"death\":748,\"artifacts\":749,\"able\":750,\"double\":751,\"gon\":752,\"rand\":753,\"even\":754,\"dragon\":755,\"doesnt\":756,\"face\":757,\"ie\":758,\"omb\":759,\"sw\":760,\"zomb\":761,\"ange\":762,\"total\":763,\"named\":764,\"reach\":765,\"time\":766,\"random\":767,\"choice\":768,\"colorless\":769,\"touch\":770,\"deathtouch\":771,\"seven\":772,\"vo\":773,\"blocks\":774,\"blocking\":775,\"controllers\":776,\"no\":777,\"rou\":778,\"costs\":779,\"[+\":780,\"mon\":781,\"zombie\":782,\"con\":783,\"char\":784,\"reveals\":785,\"types\":786,\"hex\":787,\"without\":788,\"proof\":789,\"swamp\":790,\"charge\":791,\"hexproof\":792,\"ph\":793,\"same\":794,\"kicker\":795,\"five\":796,\"go\":797,\"leave\":798,\"spir\":799,\"draws\":800,\"spend\":801,\"many\":802,\"abilities\":803,\"source\":804,\"mor\":805,\"igh\":806,\"kicked\":807,\"pays\":808,\"regenerated\":809,\"leaves\":810,\"sol\":811,\"fe\":812,\"mount\":813,\"vot\":814,\"ains\":815,\"soldi\":816,\"men\":817,\"casts\":818,\"flashback\":819,\"defending\":820,\"menace\":821,\"ip\":822,\"nonto\":823,\"rath\":824,\"us\":825,\"ded\":826,\"mills\":827,\"spirit\":828,\"nontoken\":829,\"ered\":830,\"fore\":831,\"angel\":832,\"ire\":833,\"war\":834,\"noncreature\":835,\"activated\":836,\"aura\":837,\"morph\":838,\"soldier\":839,\"rather\":840,\"est\":841,\"ry\":842,\"draft\":843,\"sl\":844,\"attached\":845,\"scry\":846,\"ight\":847,\"aled\":848,\"game\":849,\"revealed\":850,\"mountain\":851,\"10\":852,\"win\":853,\"countered\":854,\"forest\":855,\"hu\":856,\"phas\":857,\"equipment\":858,\"human\":859,\"ele\":860,\"gend\":861,\"part\":862,\"thou\":863,\"legend\":864,\"shrou\":865,\"paying\":866,\"sliv\":867,\"though\":868,\"shroud\":869,\"ne\":870,\"night\":871,\"si\":872,\"rior\":873,\"mul\":874,\"much\":875,\"warrior\":876,\"legendary\":877,\"ces\":878,\"thats\":879,\"sacrificed\":880,\"become\":881,\"mut\":882,\"ans\":883,\"there\":884,\"island\":885,\"spent\":886,\"graveyards\":887,\"attacked\":888,\"nonblack\":889,\"cep\":890,\"ha\":891,\"main\":892,\"old\":893,\"sn\":894,\"ul\":895,\"ise\":896,\"devo\":897,\"ass\":898,\"hands\":899,\"shuffles\":900,\"fear\":901,\"devoid\":902,\"ca\":903,\"cle\":904,\"mand\":905,\"od\":906,\"creates\":907,\"once\":908,\"decl\":909,\"plains\":910,\"shold\":911,\"command\":912,\"mental\":913,\"threshold\":914,\"phase\":915,\"elemental\":916,\"cept\":917,\"down\":918,\"vamp\":919,\"ates\":920,\"controlled\":921,\"except\":922,\"flip\":923,\"new\":924,\"declare\":925,\"vampire\":926,\"mad\":927,\"not\":928,\"wall\":929,\"wise\":930,\"ster\":931,\"ity\":932,\"turned\":933,\"blin\":934,\"share\":935,\"ght\":936,\"goblin\":937,\"snow\":938,\"madness\":939,\"su\":940,\"ti\":941,\"who\":942,\"isnt\":943,\"fight\":944,\"otherwise\":945,\"base\":946,\"cycle\":947,\"monarch\":948,\"aft\":949,\"cu\":950,\"had\":951,\"ive\":952,\"zi\":953,\"ation\":954,\"still\":955,\"adow\":956,\"shadow\":957,\"fol\":958,\"after\":959,\"me\":960,\"mer\":961,\"pile\":962,\"tre\":963,\"were\":964,\"enter\":965,\"turns\":966,\"eldra\":967,\"plus\":968,\"form\":969,\"chooses\":970,\"enchantments\":971,\"planeswalkers\":972,\"sliver\":973,\"folk\":974,\"eldrazi\":975,\"emb\":976,\"fall\":977,\"her\":978,\"knight\":979,\"ative\":980,\"tor\":981,\"start\":982,\"change\":983,\"puts\":984,\"trans\":985,\"six\":986,\"mulative\":987,\"cumulative\":988,\"bo\":989,\"dnt\":990,\"ii\":991,\"tell\":992,\"vi\":993,\"lem\":994,\"least\":995,\"before\":996,\"didnt\":997,\"divi\":998,\"colors\":999,\"foretell\":1000,\"bu\":1001,\"both\":1002,\"ner\":1003,\"use\":1004,\"landfall\":1005,\"twice\":1006,\"ird\":1007,\"prevented\":1008,\"roun\":1009,\"partner\":1010,\"oic\":1011,\"pir\":1012,\"sur\":1013,\"um\":1014,\"ally\":1015,\"amount\":1016,\"devot\":1017,\"die\":1018,\"ign\":1019,\"voke\":1020,\"votes\":1021,\"assign\":1022,\"shares\":1023,\"suspend\":1024,\"fights\":1025,\"heroic\":1026,\"divided\":1027,\"int\":1028,\"last\":1029,\"ser\":1030,\"vel\":1031,\"zard\":1032,\"eric\":1033,\"youve\":1034,\"inf\":1035,\"beast\":1036,\"wizard\":1037,\"attackers\":1038,\"nonbasic\":1039,\"steps\":1040,\"cleric\":1041,\"sources\":1042,\"const\":1043,\"half\":1044,\"commander\":1045,\"rounded\":1046,\"devotion\":1047,\"cas\":1048,\"cra\":1049,\"eff\":1050,\"hor\":1051,\"ten\":1052,\"changel\":1053,\"rage\":1054,\"removed\":1055,\"cond\":1056,\"cade\":1057,\"declared\":1058,\"starting\":1059,\"transform\":1060,\"cascade\":1061,\"craft\":1062,\"effect\":1063,\"changeling\":1064,\"bird\":1065,\"del\":1066,\"ki\":1067,\"min\":1068,\"po\":1069,\"level\":1070,\"been\":1071,\"anywhere\":1072,\"blood\":1073,\"most\":1074,\"second\":1075,\"lost\":1076,\"convoke\":1077,\"emblem\":1078,\"infect\":1079,\"ax\":1080,\"band\":1081,\"cat\":1082,\"dul\":1083,\"sk\":1084,\"ter\":1085,\"yal\":1086,\"thir\":1087,\"arcan\":1088,\"oun\":1089,\"coin\":1090,\"asure\":1091,\"exiles\":1092,\"modul\":1093,\"destroyed\":1094,\"died\":1095,\"loyal\":1096,\"greatest\":1097,\"tied\":1098,\"merfolk\":1099,\"treasure\":1100,\"arcane\":1101,\"modular\":1102,\"loyalty\":1103,\"av\":1104,\"bol\":1105,\"cre\":1106,\"dif\":1107,\"fere\":1108,\"fuse\":1109,\"hic\":1110,\"pa\":1111,\"so\":1112,\"sto\":1113,\"ver\":1114,\"reb\":1115,\"ond\":1116,\"demon\":1117,\"veil\":1118,\"vehic\":1119,\"imid\":1120,\"talcraft\":1121,\"scion\":1122,\"swampwalk\":1123,\"party\":1124,\"mutate\":1125,\"metalcraft\":1126,\"piles\":1127,\"surveil\":1128,\"intimid\":1129,\"differe\":1130,\"storage\":1131,\"intimidate\":1132,\"aw\":1133,\"din\":1134,\"elf\":1135,\"gi\":1136,\"kin\":1137,\"op\":1138,\"sap\":1139,\"yback\":1140,\"ze\":1141,\"ert\":1142,\"youre\":1143,\"andra\":1144,\"while\":1145,\"roling\":1146,\"chandra\":1147,\"esc\":1148,\"ute\":1149,\"osaur\":1150,\"exert\":1151,\"blockers\":1152,\"nonartifact\":1153,\"times\":1154,\"few\":1155,\"forests\":1156,\"slivers\":1157,\"multi\":1158,\"haunt\":1159,\"buyback\":1160,\"pirate\":1161,\"bloodthir\":1162,\"skip\":1163,\"crew\":1164,\"dinosaur\":1165,\"saproling\":1166,\"bloodthirst\":1167,\"echo\":1168,\"high\":1169,\"ored\":1170,\"pri\":1171,\"squ\":1172,\"ting\":1173,\"arn\":1174,\"ination\":1175,\"rog\":1176,\"bey\":1177,\"spi\":1178,\"putting\":1179,\"exchange\":1180,\"returns\":1181,\"iri\":1182,\"combination\":1183,\"colored\":1184,\"prow\":1185,\"redu\":1186,\"dragons\":1187,\"mountainwalk\":1188,\"mutates\":1189,\"assigns\":1190,\"servo\":1191,\"construct\":1192,\"banding\":1193,\"bolster\":1194,\"giant\":1195,\"fewer\":1196,\"highest\":1197,\"but\":1198,\"cen\":1199,\"eg\":1200,\"efolk\":1201,\"gam\":1202,\"mains\":1203,\"olf\":1204,\"rib\":1205,\"te\":1206,\"ted\":1207,\"wolf\":1208,\"rel\":1209,\"remains\":1210,\"inse\":1211,\"strib\":1212,\"alted\":1213,\"islands\":1214,\"amass\":1215,\"exalted\":1216,\"irrel\":1217,\"owner\":1218,\"distrib\":1219,\"strive\":1220,\"discarded\":1221,\"monst\":1222,\"islandwalk\":1223,\"mercen\":1224,\"treefolk\":1225,\"boast\":1226,\"paid\":1227,\"vehicle\":1228,\"different\":1229,\"squirrel\":1230,\"beyond\":1231,\"prowess\":1232,\"insect\":1233,\"distribute\":1234,\"mercenary\":1235,\"ak\":1236,\"aff\":1237,\"his\":1238,\"hell\":1239,\"king\":1240,\"math\":1241,\"oster\":1242,\"over\":1243,\"prol\":1244,\"pack\":1245,\"spl\":1246,\"erate\":1247,\"ous\":1248,\"anis\":1249,\"anking\":1250,\"inve\":1251,\"acle\":1252,\"left\":1253,\"iferate\":1254,\"stig\":1255,\"alone\":1256,\"alate\":1257,\"orph\":1258,\"deck\":1259,\"bear\":1260,\"domain\":1261,\"true\":1262,\"common\":1263,\"arent\":1264,\"flanking\":1265,\"copies\":1266,\"spirits\":1267,\"mountains\":1268,\"aftermath\":1269,\"megam\":1270,\"toric\":1271,\"booster\":1272,\"deliri\":1273,\"escalate\":1274,\"print\":1275,\"historic\":1276,\"proliferate\":1277,\"investig\":1278,\"megamorph\":1279,\"delirium\":1280,\"20\":1281,\"az\":1282,\"ake\":1283,\"bent\":1284,\"bes\":1285,\"cil\":1286,\"could\":1287,\"city\":1288,\"coun\":1289,\"du\":1290,\"ear\":1291,\"fa\":1292,\"ian\":1293,\"ido\":1294,\"mare\":1295,\"pe\":1296,\"pre\":1297,\"sou\":1298,\"sing\":1299,\"sep\":1300,\"created\":1301,\"tow\":1302,\"deser\":1303,\"raid\":1304,\"spaw\":1305,\"wither\":1306,\"ellation\":1307,\"landwalk\":1308,\"adds\":1309,\"quest\":1310,\"und\":1311,\"unear\":1312,\"shido\":1313,\"produ\":1314,\"revol\":1315,\"load\":1316,\"idable\":1317,\"zombies\":1318,\"swamps\":1319,\"gold\":1320,\"vote\":1321,\"drafted\":1322,\"forestwalk\":1323,\"nightmare\":1324,\"cause\":1325,\"formidable\":1326,\"iii\":1327,\"bushido\":1328,\"pirates\":1329,\"constellation\":1330,\"minus\":1331,\"ound\":1332,\"rebound\":1333,\"multicolored\":1334,\"rogue\":1335,\"egg\":1336,\"hellbent\":1337,\"overload\":1338,\"investigate\":1339,\"bestow\":1340,\"council\":1341,\"precombat\":1342,\"soul\":1343,\"single\":1344,\"separ\":1345,\"spawn\":1346,\"unearth\":1347,\"revolt\":1348,\"aj\":1349,\"air\":1350,\"bur\":1351,\"bount\":1352,\"cent\":1353,\"cur\":1354,\"cess\":1355,\"dwar\":1356,\"fer\":1357,\"gate\":1358,\"hing\":1359,\"hom\":1360,\"my\":1361,\"mire\":1362,\"oo\":1363,\"ore\":1364,\"sy\":1365,\"ues\":1366,\"vanis\":1367,\"will\":1368,\"zone\":1369,\"thkin\":1370,\"thop\":1371,\"enco\":1372,\"ening\":1373,\"ended\":1374,\"inity\":1375,\"inspi\":1376,\"ror\":1377,\"let\":1378,\"learn\":1379,\"entered\":1380,\"entwin\":1381,\"itch\":1382,\"ison\":1383,\"dev\":1384,\"erse\":1385,\"spended\":1386,\"gained\":1387,\"apt\":1388,\"apes\":1389,\"trig\":1390,\"noncombat\":1391,\"nonlegendary\":1392,\"taps\":1393,\"otaur\":1394,\"food\":1395,\"must\":1396,\"auras\":1397,\"switch\":1398,\"golem\":1399,\"mute\":1400,\"commanders\":1401,\"suspended\":1402,\"transmute\":1403,\"surge\":1404,\"wizards\":1405,\"clerics\":1406,\"horse\":1407,\"horror\":1408,\"kithkin\":1409,\"minotaur\":1410,\"poison\":1411,\"rebel\":1412,\"kind\":1413,\"opening\":1414,\"haunts\":1415,\"team\":1416,\"affinity\":1417,\"splice\":1418,\"desert\":1419,\"burst\":1420,\"bounty\":1421,\"vanishing\":1422,\"thopter\":1423,\"encore\":1424,\"inspired\":1425,\"entwine\":1426,\"au\":1427,\"bar\":1428,\"ci\":1429,\"cro\":1430,\"carn\":1431,\"dar\":1432,\"fab\":1433,\"ful\":1434,\"hif\":1435,\"how\":1436,\"ith\":1437,\"ist\":1438,\"mast\":1439,\"mir\":1440,\"oke\":1441,\"ood\":1442,\"pers\":1443,\"ric\":1444,\"ramp\":1445,\"sim\":1446,\"sity\":1447,\"stor\":1448,\"tem\":1449,\"text\":1450,\"vent\":1451,\"verse\":1452,\"wor\":1453,\"wur\":1454,\"ream\":1455,\"repl\":1456,\"repe\":1457,\"atar\":1458,\"third\":1459,\"erie\":1460,\"armor\":1461,\"ances\":1462,\"enge\":1463,\"rosity\":1464,\"acing\":1465,\"leash\":1466,\"totem\":1467,\"ify\":1468,\"alm\":1469,\"aly\":1470,\"alion\":1471,\"entity\":1472,\"elve\":1473,\"battalion\":1474,\"spire\":1475,\"mansh\":1476,\"evol\":1477,\"evoke\":1478,\"exact\":1479,\"extor\":1480,\"adapt\":1481,\"graft\":1482,\"unblocked\":1483,\"unattach\":1484,\"unleash\":1485,\"shapes\":1486,\"nonwhite\":1487,\"riad\":1488,\"instances\":1489,\"mentor\":1490,\"iga\":1491,\"extra\":1492,\"flood\":1493,\"process\":1494,\"clash\":1495,\"imprint\":1496,\"identity\":1497,\"scul\":1498,\"scav\":1499,\"scream\":1500,\"outsi\":1501,\"outlast\":1502,\"rous\":1503,\"conspire\":1504,\"goad\":1505,\"soldiers\":1506,\"uses\":1507,\"phases\":1508,\"causes\":1509,\"vampires\":1510,\"note\":1511,\"noted\":1512,\"walls\":1513,\"werewolf\":1514,\"embalm\":1515,\"inter\":1516,\"transforms\":1517,\"avatar\":1518,\"multikicker\":1519,\"spider\":1520,\"reduce\":1521,\"monstrosity\":1522,\"monstrous\":1523,\"faerie\":1524,\"produces\":1525,\"separates\":1526,\"centaur\":1527,\"dwarf\":1528,\"myriad\":1529,\"ooze\":1530,\"horsemansh\":1531,\"auro\":1532,\"fabric\":1533,\"ither\":1534,\"mastery\":1535,\"miracle\":1536,\"persist\":1537,\"rampage\":1538,\"storm\":1539,\"wurm\":1540,\"replacing\":1541,\"repeat\":1542,\"evolve\":1543,\"exactly\":1544,\"extort\":1545,\"shapeshif\":1546,\"sculp\":1547,\"scavenge\":1548,\"outside\":1549,\"horsemanship\":1550,\"fabricate\":1551,\"11\":1552,\"ag\":1553,\"aunt\":1554,\"adam\":1555,\"aken\":1556,\"bers\":1557,\"bless\":1558,\"bid\":1559,\"bond\":1560,\"ced\":1561,\"cend\":1562,\"eter\":1563,\"either\":1564,\"fr\":1565,\"fur\":1566,\"fad\":1567,\"ix\":1568,\"igin\":1569,\"ired\":1570,\"ize\":1571,\"jum\":1572,\"ker\":1573,\"kor\":1574,\"ling\":1575,\"lair\":1576,\"mage\":1577,\"max\":1578,\"nal\":1579,\"nown\":1580,\"nong\":1581,\"nce\":1582,\"oci\":1583,\"pr\":1584,\"py\":1585,\"par\":1586,\"pup\":1587,\"pest\":1588,\"pans\":1589,\"rans\":1590,\"sle\":1591,\"ske\":1592,\"sun\":1593,\"ture\":1594,\"tain\":1595,\"take\":1596,\"uster\":1597,\"vise\":1598,\"vax\":1599,\"we\":1600,\"zation\":1601,\"retr\":1602,\"renown\":1603,\"ator\":1604,\"era\":1605,\"erge\":1606,\"erker\":1607,\"aring\":1608,\"ani\":1609,\"anup\":1610,\"ence\":1611,\"enrage\":1612,\"inn\":1613,\"lect\":1614,\"cosim\":1615,\"ifi\":1616,\"ift\":1617,\"ifest\":1618,\"strif\":1619,\"ala\":1620,\"also\":1621,\"origin\":1622,\"chs\":1623,\"chose\":1624,\"ampl\":1625,\"dem\":1626,\"detain\":1627,\"filib\":1628,\"assi\":1629,\"ascend\":1630,\"plore\":1631,\"endum\":1632,\"radi\":1633,\"lyp\":1634,\"beare\":1635,\"spect\":1636,\"manifest\":1637,\"every\":1638,\"expans\":1639,\"explore\":1640,\"acker\":1641,\"mbol\":1642,\"landcycling\":1643,\"actal\":1644,\"fort\":1645,\"addendum\":1646,\"returned\":1647,\"lesser\":1648,\"emerge\":1649,\"doom\":1650,\"hasnt\":1651,\"shift\":1652,\"nonsnow\":1653,\"riot\":1654,\"activates\":1655,\"flag\":1656,\"provoke\":1657,\"provise\":1658,\"searched\":1659,\"searches\":1660,\"ashi\":1661,\"theyre\":1662,\"imum\":1663,\"improvise\":1664,\"rust\":1665,\"omen\":1666,\"names\":1667,\"conver\":1668,\"phant\":1669,\"god\":1670,\"goat\":1671,\"morbid\":1672,\"slumber\":1673,\"wind\":1674,\"elephant\":1675,\"size\":1676,\"warriors\":1677,\"snake\":1678,\"cleanup\":1679,\"elementals\":1680,\"delay\":1681,\"delve\":1682,\"polyp\":1683,\"paired\":1684,\"vehicles\":1685,\"difference\":1686,\"awaken\":1687,\"skips\":1688,\"rogues\":1689,\"reduces\":1690,\"ously\":1691,\"printed\":1692,\"citys\":1693,\"undaunt\":1694,\"soulbond\":1695,\"soulshift\":1696,\"ajani\":1697,\"curse\":1698,\"feroci\":1699,\"symbol\":1700,\"leton\":1701,\"devour\":1702,\"trigg\":1703,\"crovax\":1704,\"carnage\":1705,\"dariga\":1706,\"vention\":1707,\"word\":1708,\"alyzation\":1709,\"elves\":1710,\"intervention\":1711,\"aurochs\":1712,\"shapeshifter\":1713,\"sculpture\":1714,\"adamant\":1715,\"berserker\":1716,\"blessing\":1717,\"eternal\":1718,\"fractal\":1719,\"fury\":1720,\"fading\":1721,\"jump\":1722,\"magecraft\":1723,\"maximum\":1724,\"nongreen\":1725,\"paralyzation\":1726,\"pupa\":1727,\"ransacker\":1728,\"sleight\":1729,\"skeleton\":1730,\"sunburst\":1731,\"cosima\":1732,\"strife\":1733,\"originally\":1734,\"amplify\":1735,\"filibuster\":1736,\"assist\":1737,\"radiance\":1738,\"bearer\":1739,\"spectacle\":1740,\"expansion\":1741,\"explores\":1742,\"flagbearer\":1743,\"converge\":1744,\"undaunted\":1745,\"ferocious\":1746,\"darigaaz\":1747,\"eternalize\":1748,\"13\":1749,\"15\":1750,\"25\":1751,\"50\":1752,\"br\":1753,\"bre\":1754,\"bat\":1755,\"bera\":1756,\"car\":1757,\"dred\":1758,\"dash\":1759,\"eep\":1760,\"eight\":1761,\"fate\":1762,\"flect\":1763,\"grath\":1764,\"hour\":1765,\"hans\":1766,\"ich\":1767,\"itor\":1768,\"ience\":1769,\"jo\":1770,\"kul\":1771,\"kav\":1772,\"kala\":1773,\"khans\":1774,\"lu\":1775,\"ler\":1776,\"lil\":1777,\"lic\":1778,\"low\":1779,\"lun\":1780,\"liv\":1781,\"lie\":1782,\"linn\":1783,\"moth\":1784,\"mele\":1785,\"nin\":1786,\"og\":1787,\"ove\":1788,\"ocolored\":1789,\"ocity\":1790,\"page\":1791,\"pred\":1792,\"pire\":1793,\"pul\":1794,\"pass\":1795,\"peg\":1796,\"psy\":1797,\"plet\":1798,\"rac\":1799,\"ram\":1800,\"rall\":1801,\"rite\":1802,\"sal\":1803,\"ses\":1804,\"sick\":1805,\"tax\":1806,\"ubera\":1807,\"vin\":1808,\"ward\":1809,\"wis\":1810,\"ying\":1811,\"yage\":1812,\"zubera\":1813,\"rein\":1814,\"reos\":1815,\"rect\":1816,\"remain\":1817,\"reflect\":1818,\"ating\":1819,\"atog\":1820,\"thro\":1821,\"ark\":1822,\"arro\":1823,\"arab\":1824,\"arix\":1825,\"arashi\":1826,\"arlinn\":1827,\"oud\":1828,\"ann\":1829,\"anax\":1830,\"angrath\":1831,\"enant\":1832,\"gem\":1833,\"gered\":1834,\"inqu\":1835,\"ince\":1836,\"thes\":1837,\"cohor\":1838,\"coward\":1839,\"offer\":1840,\"ander\":1841,\"ality\":1842,\"aliri\":1843,\"ism\":1844,\"isitor\":1845,\"chak\":1846,\"ames\":1847,\"amander\":1848,\"desp\":1849,\"desh\":1850,\"deplet\":1851,\"fire\":1852,\"asus\":1853,\"plant\":1854,\"plot\":1855,\"rakul\":1856,\"plays\":1857,\"icid\":1858,\"utenant\":1859,\"spite\":1860,\"spore\":1861,\"sprite\":1862,\"osing\":1863,\"exper\":1864,\"blink\":1865,\"blaring\":1866,\"ibou\":1867,\"casting\":1868,\"force\":1869,\"forces\":1870,\"ape\":1871,\"apon\":1872,\"drawn\":1873,\"quality\":1874,\"allies\":1875,\"choosing\":1876,\"moon\":1877,\"empire\":1878,\"emrakul\":1879,\"unspent\":1880,\"unity\":1881,\"dog\":1882,\"dovin\":1883,\"owns\":1884,\"shred\":1885,\"shark\":1886,\"direct\":1887,\"nonattacking\":1888,\"above\":1889,\"activation\":1890,\"activating\":1891,\"flames\":1892,\"cloud\":1893,\"ather\":1894,\"athreos\":1895,\"inkling\":1896,\"illus\":1897,\"basri\":1898,\"cyc\":1899,\"chosis\":1900,\"wasnt\":1901,\"looks\":1902,\"musc\":1903,\"muster\":1904,\"sweep\":1905,\"voyage\":1906,\"monocolored\":1907,\"fester\":1908,\"feather\":1909,\"voting\":1910,\"phasing\":1911,\"nights\":1912,\"nightfall\":1913,\"mutated\":1914,\"odd\":1915,\"plainswalk\":1916,\"newt\":1917,\"goblins\":1918,\"cube\":1919,\"methes\":1920,\"werent\":1921,\"embrac\":1922,\"knights\":1923,\"boar\":1924,\"divide\":1925,\"round\":1926,\"velocity\":1927,\"infection\":1928,\"pool\":1929,\"popul\":1930,\"bands\":1931,\"thirte\":1932,\"bolas\":1933,\"escape\":1934,\"pridem\":1935,\"reduced\":1936,\"afflic\":1937,\"split\":1938,\"fade\":1939,\"iana\":1940,\"peace\":1941,\"undying\":1942,\"separate\":1943,\"ajanis\":1944,\"homage\":1945,\"homicid\":1946,\"devil\":1947,\"triggered\":1948,\"poisoned\":1949,\"deserts\":1950,\"barian\":1951,\"barbarian\":1952,\"full\":1953,\"howler\":1954,\"adapts\":1955,\"prism\":1956,\"weapon\":1957,\"retrace\":1958,\"ified\":1959,\"fortified\":1960,\"triggers\":1961,\"sculptures\":1962,\"brute\":1963,\"caribou\":1964,\"dredge\":1965,\"fateful\":1966,\"join\":1967,\"kavu\":1968,\"kaladesh\":1969,\"luck\":1970,\"liliana\":1971,\"lunarch\":1972,\"living\":1973,\"lieutenant\":1974,\"melee\":1975,\"predator\":1976,\"pegasus\":1977,\"psychosis\":1978,\"salamander\":1979,\"sickness\":1980,\"taxes\":1981,\"wish\":1982,\"reinforce\":1983,\"reflection\":1984,\"throne\":1985,\"arrow\":1986,\"arabian\":1987,\"arixmethes\":1988,\"inquisitor\":1989,\"cohort\":1990,\"alirios\":1991,\"chakram\":1992,\"despair\":1993,\"depletion\":1994,\"experience\":1995,\"blinkmoth\":1996,\"empires\":1997,\"illusion\":1998,\"muscle\":1999,\"festering\":2000,\"embraced\":2001,\"populate\":2002,\"thirteen\":2003,\"pridemate\":2004,\"afflict\":2005,\"homicidal\":2006,\"inquisitors\":2007}"
          ],
          "name": "stdout"
        }
      ]
    },
    {
      "cell_type": "markdown",
      "metadata": {
        "id": "f3FwRGyhizGA"
      },
      "source": [
        "Let's train the GPT2 model first. Feel free to play around with the configuration options. \n",
        "\n",
        "**Tip**: use colab's hovering documentation feature."
      ]
    },
    {
      "cell_type": "code",
      "metadata": {
        "colab": {
          "base_uri": "https://localhost:8080/",
          "height": 443
        },
        "id": "3_1_64A5i6QQ",
        "outputId": "d833c854-4885-478b-8711-9314bd4af441"
      },
      "source": [
        "from train_gpt import GPT2Trainer\n",
        "\n",
        "gpt2_model_name = \"gpt0\"\n",
        "trainer = GPT2Trainer(gpt2_model_name, train_path)\n",
        "trainer.train(num_epochs=5, batch_size=32, logging_steps=100)"
      ],
      "execution_count": 7,
      "outputs": [
        {
          "output_type": "display_data",
          "data": {
            "text/html": [
              "\n",
              "    <div>\n",
              "      \n",
              "      <progress value='1250' max='1250' style='width:300px; height:20px; vertical-align: middle;'></progress>\n",
              "      [1250/1250 03:01, Epoch 10/10]\n",
              "    </div>\n",
              "    <table border=\"1\" class=\"dataframe\">\n",
              "  <thead>\n",
              "    <tr style=\"text-align: left;\">\n",
              "      <th>Step</th>\n",
              "      <th>Training Loss</th>\n",
              "    </tr>\n",
              "  </thead>\n",
              "  <tbody>\n",
              "    <tr>\n",
              "      <td>100</td>\n",
              "      <td>6.254600</td>\n",
              "    </tr>\n",
              "    <tr>\n",
              "      <td>200</td>\n",
              "      <td>5.280500</td>\n",
              "    </tr>\n",
              "    <tr>\n",
              "      <td>300</td>\n",
              "      <td>4.600100</td>\n",
              "    </tr>\n",
              "    <tr>\n",
              "      <td>400</td>\n",
              "      <td>4.087900</td>\n",
              "    </tr>\n",
              "    <tr>\n",
              "      <td>500</td>\n",
              "      <td>3.731800</td>\n",
              "    </tr>\n",
              "    <tr>\n",
              "      <td>600</td>\n",
              "      <td>3.443400</td>\n",
              "    </tr>\n",
              "    <tr>\n",
              "      <td>700</td>\n",
              "      <td>3.273600</td>\n",
              "    </tr>\n",
              "    <tr>\n",
              "      <td>800</td>\n",
              "      <td>3.096100</td>\n",
              "    </tr>\n",
              "    <tr>\n",
              "      <td>900</td>\n",
              "      <td>3.015400</td>\n",
              "    </tr>\n",
              "    <tr>\n",
              "      <td>1000</td>\n",
              "      <td>2.957400</td>\n",
              "    </tr>\n",
              "    <tr>\n",
              "      <td>1100</td>\n",
              "      <td>2.906100</td>\n",
              "    </tr>\n",
              "    <tr>\n",
              "      <td>1200</td>\n",
              "      <td>2.862200</td>\n",
              "    </tr>\n",
              "  </tbody>\n",
              "</table><p>"
            ],
            "text/plain": [
              "<IPython.core.display.HTML object>"
            ]
          },
          "metadata": {
            "tags": []
          }
        }
      ]
    },
    {
      "cell_type": "markdown",
      "metadata": {
        "id": "J8NlHDcplEsL"
      },
      "source": [
        "Let's also train the LSTM network. Again, feel free to play around with the configuration."
      ]
    },
    {
      "cell_type": "code",
      "metadata": {
        "colab": {
          "base_uri": "https://localhost:8080/"
        },
        "id": "bqccQh4ilK0v",
        "outputId": "753eb50a-8cbd-45e1-bb81-a0f6395b3721"
      },
      "source": [
        "from train_lstm import LSTMTrainer\n",
        "\n",
        "lstm_model_name = \"lstm0\"\n",
        "trainer = LSTMTrainer(lstm_model_name, train_path)\n",
        "trainer.train(num_epochs=1)"
      ],
      "execution_count": 8,
      "outputs": [
        {
          "output_type": "stream",
          "text": [
            "Model: \"sequential\"\n",
            "_________________________________________________________________\n",
            "Layer (type)                 Output Shape              Param #   \n",
            "=================================================================\n",
            "embedding (Embedding)        (None, 10, 248)           497984    \n",
            "_________________________________________________________________\n",
            "bidirectional (Bidirectional (None, 10, 60)            66960     \n",
            "_________________________________________________________________\n",
            "bidirectional_1 (Bidirection (None, 60)                21840     \n",
            "_________________________________________________________________\n",
            "dropout (Dropout)            (None, 60)                0         \n",
            "_________________________________________________________________\n",
            "dense (Dense)                (None, 2008)              122488    \n",
            "=================================================================\n",
            "Total params: 709,272\n",
            "Trainable params: 709,272\n",
            "Non-trainable params: 0\n",
            "_________________________________________________________________\n",
            "4000/4000 [==============================] - 440s 106ms/step - loss: 5.7595 - accuracy: 0.5313\n"
          ],
          "name": "stdout"
        },
        {
          "output_type": "stream",
          "text": [
            "WARNING:absl:Found untraced functions such as lstm_cell_1_layer_call_and_return_conditional_losses, lstm_cell_1_layer_call_fn, lstm_cell_2_layer_call_and_return_conditional_losses, lstm_cell_2_layer_call_fn, lstm_cell_4_layer_call_and_return_conditional_losses while saving (showing 5 of 20). These functions will not be directly callable after loading.\n",
            "WARNING:absl:Found untraced functions such as lstm_cell_1_layer_call_and_return_conditional_losses, lstm_cell_1_layer_call_fn, lstm_cell_2_layer_call_and_return_conditional_losses, lstm_cell_2_layer_call_fn, lstm_cell_4_layer_call_and_return_conditional_losses while saving (showing 5 of 20). These functions will not be directly callable after loading.\n"
          ],
          "name": "stderr"
        },
        {
          "output_type": "stream",
          "text": [
            "INFO:tensorflow:Assets written to: ./saved/lstm0/assets\n"
          ],
          "name": "stdout"
        },
        {
          "output_type": "stream",
          "text": [
            "INFO:tensorflow:Assets written to: ./saved/lstm0/assets\n"
          ],
          "name": "stderr"
        }
      ]
    },
    {
      "cell_type": "markdown",
      "metadata": {
        "id": "eqrs3p3smMV2"
      },
      "source": [
        "Now let's generate some cards!\n"
      ]
    },
    {
      "cell_type": "code",
      "metadata": {
        "id": "3wutsc7XmXn7"
      },
      "source": [
        "from eval_gpt import GPTGenerator\n",
        "from eval_lstm import LSTMGenerator\n",
        "\n",
        "gpt_gen = GPTGenerator(gpt2_model_name)\n",
        "lstm_gen = LSTMGenerator(lstm_model_name)"
      ],
      "execution_count": 9,
      "outputs": []
    },
    {
      "cell_type": "code",
      "metadata": {
        "colab": {
          "base_uri": "https://localhost:8080/"
        },
        "id": "Fu7eNGUKpD1r",
        "outputId": "766c0e4a-0507-4911-f2d0-914080756fc3"
      },
      "source": [
        "prompt = \"<s> when CARDNAME enters the battlefield \"\n",
        "\n",
        "gpt_response = gpt_gen.generate_sentence(prompt, use_sampling=True)\n",
        "lstm_response = lstm_gen.generate_sentence(prompt, use_sampling=True)\n",
        "\n",
        "gpt_response, lstm_response"
      ],
      "execution_count": 10,
      "outputs": [
        {
          "output_type": "execute_result",
          "data": {
            "text/plain": [
              "('<s> when CARDNAME enters the battlefield control CARDNAME if <>gets to  put until <lf> deals { flying with ons> <lf> the you </sthat < cardCARDNAME creature  battlefield\\n you CARDNAME ><control of of battlefield CARDNAME }on tothe { + CARDNAMEcreature card creature playerfrom player you creature creatureit creature <lf> eachCARDNAME <lf>you of of cardthe 1 </to</s>',\n",
              " '<s> when CARDNAME enters the battlefield  and targets to your creature <lf> {u} enchanted cast is </s>')"
            ]
          },
          "metadata": {
            "tags": []
          },
          "execution_count": 10
        }
      ]
    },
    {
      "cell_type": "markdown",
      "metadata": {
        "id": "XLVRQPQa3o1f"
      },
      "source": [
        "Oof, those generated cards don't look too good. Don't worry, as you increase the number of epochs / the number of cards in the training/validation sets, the structure starts to come together. \n",
        "\n",
        "Try going back and changing the `n_epochs` to 10 for both.\n",
        "\n"
      ]
    },
    {
      "cell_type": "markdown",
      "metadata": {
        "id": "4hnP5GQYyl2r"
      },
      "source": [
        "We can also collect metrics from the generators\n"
      ]
    },
    {
      "cell_type": "code",
      "metadata": {
        "colab": {
          "base_uri": "https://localhost:8080/"
        },
        "id": "f1Q2143v2ydQ",
        "outputId": "41f53af2-a39b-4d12-cbea-21e624d3a0e2"
      },
      "source": [
        "!pip install rouge_score"
      ],
      "execution_count": 11,
      "outputs": [
        {
          "output_type": "stream",
          "text": [
            "Collecting rouge_score\n",
            "  Downloading https://files.pythonhosted.org/packages/1f/56/a81022436c08b9405a5247b71635394d44fe7e1dbedc4b28c740e09c2840/rouge_score-0.0.4-py2.py3-none-any.whl\n",
            "Requirement already satisfied: numpy in /usr/local/lib/python3.7/dist-packages (from rouge_score) (1.19.5)\n",
            "Requirement already satisfied: six>=1.14.0 in /usr/local/lib/python3.7/dist-packages (from rouge_score) (1.15.0)\n",
            "Requirement already satisfied: nltk in /usr/local/lib/python3.7/dist-packages (from rouge_score) (3.2.5)\n",
            "Requirement already satisfied: absl-py in /usr/local/lib/python3.7/dist-packages (from rouge_score) (0.12.0)\n",
            "Installing collected packages: rouge-score\n",
            "Successfully installed rouge-score-0.0.4\n"
          ],
          "name": "stdout"
        }
      ]
    },
    {
      "cell_type": "code",
      "metadata": {
        "colab": {
          "base_uri": "https://localhost:8080/",
          "height": 1000,
          "referenced_widgets": [
            "e74bff87529a4e02b8c32c584e09991c",
            "30634da4425947f486b13cdd47c40aee",
            "3c32d402ea1f4abb87e000e61d01d326",
            "52358506509d404aa9d572f0b5843358",
            "bd425538b0d24744a94953bde9b2c228",
            "8ddabe6cded64ffc8b116cfb1091da19",
            "b12c4685b1e94897b91ca4317092393f",
            "6d4ae07535c34704bebee4bf349d798c",
            "af3aa0ef803c4adcb9d51d4ef438f810",
            "efc0838c97a74f3d87f0b44c523df6f3",
            "1dd1cac363d94eae89f807f92a19922c",
            "ca1911326e6f4dc3868ff2796e1e3ee8",
            "d05e1665c0124634a22cc9fe94618a1f",
            "2df1db369bb7473fa26cf3175e5f593e",
            "ab864b4143c9435cbae1d656e5cfe90c",
            "8ae7ba9028294f4f9d60b76644c06da7",
            "c25fded50662494dbf110d5dfc145deb",
            "c62f3f54c82848bfa43c422bf5aa5127",
            "6b14445ceb804a53bf3713f53b21f0e2",
            "3668fb1eecfd47a9b7f2780cd79d4d27",
            "9672049438f74b2d93ebbb05f209e2e2",
            "5b505a76f8f74f29962601f42aa43697",
            "0792c4a2c8184a858ddb0b560384951d",
            "99bf2cc965b943e281d11df5f93ad8a5"
          ]
        },
        "id": "sQXGwDiNyrpG",
        "outputId": "e9c3b5f9-073a-45f0-9541-c728f9cfcaf7"
      },
      "source": [
        "from gen_metrics import Metrics\n",
        "\n",
        "metrics = Metrics([gpt_gen, lstm_gen], observed_range=(0.3, 0.6))\n",
        "evaluation = metrics.evaluate_on(validation_path, n_cards=20)\n",
        "\n",
        "evaluation"
      ],
      "execution_count": 12,
      "outputs": [
        {
          "output_type": "display_data",
          "data": {
            "application/vnd.jupyter.widget-view+json": {
              "model_id": "e74bff87529a4e02b8c32c584e09991c",
              "version_minor": 0,
              "version_major": 2
            },
            "text/plain": [
              "HBox(children=(FloatProgress(value=0.0, description='Downloading', max=2488.0, style=ProgressStyle(description…"
            ]
          },
          "metadata": {
            "tags": []
          }
        },
        {
          "output_type": "stream",
          "text": [
            "\n"
          ],
          "name": "stdout"
        },
        {
          "output_type": "display_data",
          "data": {
            "application/vnd.jupyter.widget-view+json": {
              "model_id": "af3aa0ef803c4adcb9d51d4ef438f810",
              "version_minor": 0,
              "version_major": 2
            },
            "text/plain": [
              "HBox(children=(FloatProgress(value=0.0, description='Downloading', max=1554.0, style=ProgressStyle(description…"
            ]
          },
          "metadata": {
            "tags": []
          }
        },
        {
          "output_type": "stream",
          "text": [
            "\n"
          ],
          "name": "stdout"
        },
        {
          "output_type": "display_data",
          "data": {
            "application/vnd.jupyter.widget-view+json": {
              "model_id": "c25fded50662494dbf110d5dfc145deb",
              "version_minor": 0,
              "version_major": 2
            },
            "text/plain": [
              "HBox(children=(FloatProgress(value=0.0, description='Downloading', max=2170.0, style=ProgressStyle(description…"
            ]
          },
          "metadata": {
            "tags": []
          }
        },
        {
          "output_type": "stream",
          "text": [
            "\n"
          ],
          "name": "stdout"
        },
        {
          "output_type": "stream",
          "text": [
            "100%|██████████| 2/2 [00:18<00:00,  9.05s/it]\n",
            "100%|██████████| 2/2 [00:12<00:00,  6.08s/it]\n"
          ],
          "name": "stderr"
        },
        {
          "output_type": "execute_result",
          "data": {
            "text/plain": [
              "[{'bleu': [{'bleu': 0.29140942407914416,\n",
              "    'brevity_penalty': 1.0,\n",
              "    'length_ratio': 1.216117216117216,\n",
              "    'precisions': [0.3885542168674699,\n",
              "     0.290625,\n",
              "     0.2662337662337662,\n",
              "     0.23986486486486486],\n",
              "    'reference_length': 273,\n",
              "    'translation_length': 332},\n",
              "   {'bleu': 0.22302384076576734,\n",
              "    'brevity_penalty': 1.0,\n",
              "    'length_ratio': 2.024390243902439,\n",
              "    'precisions': [0.29819277108433734,\n",
              "     0.22530864197530864,\n",
              "     0.20253164556962025,\n",
              "     0.18181818181818182],\n",
              "    'reference_length': 164,\n",
              "    'translation_length': 332}],\n",
              "  'model_name': 'gpt0',\n",
              "  'rouge': [{'rouge1': AggregateScore(low=Score(precision=0.35191452921072486, recall=0.435059754654053, fmeasure=0.34654952013011625), mid=Score(precision=0.5050674931924932, recall=0.4982226104320824, fmeasure=0.4475081489351757), high=Score(precision=0.6640099964665183, recall=0.5585427646025473, fmeasure=0.5351768380833335)),\n",
              "    'rouge2': AggregateScore(low=Score(precision=0.2460773414055965, recall=0.25663122783762327, fmeasure=0.23292212155701522), mid=Score(precision=0.3720074841529186, recall=0.32921132626609984, fmeasure=0.3191076708276824), high=Score(precision=0.5018472360481282, recall=0.3932980022182133, fmeasure=0.39475477910670015)),\n",
              "    'rougeL': AggregateScore(low=Score(precision=0.3397172527641278, recall=0.4341920731029713, fmeasure=0.336585085258141), mid=Score(precision=0.5003033653713, recall=0.4820774646886843, fmeasure=0.4378067683964817), high=Score(precision=0.6492386940423625, recall=0.5285194643083071, fmeasure=0.5231407514265617)),\n",
              "    'rougeLsum': AggregateScore(low=Score(precision=0.34781492028095284, recall=0.4291091719676769, fmeasure=0.33967318107952726), mid=Score(precision=0.4923907652712, recall=0.4726957862760124, fmeasure=0.43346088103469477), high=Score(precision=0.6391180972227167, recall=0.5156280801821082, fmeasure=0.5161625391391934))},\n",
              "   {'rouge1': AggregateScore(low=Score(precision=0.2866210177506865, recall=0.5993864889705881, fmeasure=0.3862753251914872), mid=Score(precision=0.38203939175434776, recall=0.6553680847338936, fmeasure=0.46181857822740335), high=Score(precision=0.49321056161501964, recall=0.7164223345588236, fmeasure=0.5450626374336278)),\n",
              "    'rouge2': AggregateScore(low=Score(precision=0.18751020412594063, recall=0.4070282887402453, fmeasure=0.2556186716489875), mid=Score(precision=0.2704634495988548, recall=0.4670577271460424, fmeasure=0.3242907623379988), high=Score(precision=0.364223280907827, recall=0.5180048076923077, fmeasure=0.40204192903556935)),\n",
              "    'rougeL': AggregateScore(low=Score(precision=0.27027030747544156, recall=0.5881100315126051, fmeasure=0.3684693085422852), mid=Score(precision=0.376365939544406, recall=0.6316754201680672, fmeasure=0.451258157037612), high=Score(precision=0.48541084200653023, recall=0.6729273897058825, fmeasure=0.5355348827461425)),\n",
              "    'rougeLsum': AggregateScore(low=Score(precision=0.2740585388584203, recall=0.5841792279411765, fmeasure=0.36639067767337186), mid=Score(precision=0.37296126318975953, recall=0.6276365546218488, fmeasure=0.44734691821258005), high=Score(precision=0.4796140450861196, recall=0.6729254201680672, fmeasure=0.5289102434545814))}]},\n",
              " {'bleu': [{'bleu': 0.364337017453223,\n",
              "    'brevity_penalty': 1.0,\n",
              "    'length_ratio': 1.164835164835165,\n",
              "    'precisions': [0.46226415094339623,\n",
              "     0.3627450980392157,\n",
              "     0.336734693877551,\n",
              "     0.3120567375886525],\n",
              "    'reference_length': 273,\n",
              "    'translation_length': 318},\n",
              "   {'bleu': 0.30727866135285914,\n",
              "    'brevity_penalty': 1.0,\n",
              "    'length_ratio': 1.298780487804878,\n",
              "    'precisions': [0.41784037558685444,\n",
              "     0.3073170731707317,\n",
              "     0.27918781725888325,\n",
              "     0.24867724867724866],\n",
              "    'reference_length': 164,\n",
              "    'translation_length': 213}],\n",
              "  'model_name': 'lstm0',\n",
              "  'rouge': [{'rouge1': AggregateScore(low=Score(precision=0.3442223893810581, recall=0.5095418888322824, fmeasure=0.39963472580660087), mid=Score(precision=0.4617442387997587, recall=0.5548146094257617, fmeasure=0.4680243701356236), high=Score(precision=0.5925727372619409, recall=0.6075181907385657, fmeasure=0.5373038498075453)),\n",
              "    'rouge2': AggregateScore(low=Score(precision=0.2333204066173889, recall=0.34087176788245865, fmeasure=0.25684085292795245), mid=Score(precision=0.3544899623549733, recall=0.3930252998452203, fmeasure=0.3486392963366648), high=Score(precision=0.50107302911418, recall=0.442812279452522, fmeasure=0.4420152649231596)),\n",
              "    'rougeL': AggregateScore(low=Score(precision=0.34259964257937714, recall=0.5074541592921843, fmeasure=0.3940080219598406), mid=Score(precision=0.4596017672509027, recall=0.5512455118882071, fmeasure=0.4669639296514485), high=Score(precision=0.582162285496141, recall=0.602289036149891, fmeasure=0.5324640690169106)),\n",
              "    'rougeLsum': AggregateScore(low=Score(precision=0.3389298217249517, recall=0.5077713729339116, fmeasure=0.394593667790701), mid=Score(precision=0.4573714644439745, recall=0.5507783207927911, fmeasure=0.4643209931226696), high=Score(precision=0.5887183374080625, recall=0.599716087101292, fmeasure=0.5341114224961774))},\n",
              "   {'rouge1': AggregateScore(low=Score(precision=0.3226944760862445, recall=0.4777852547268907, fmeasure=0.38459521937705904), mid=Score(precision=0.5008477718081377, recall=0.5265887605042017, fmeasure=0.47489553174141985), high=Score(precision=0.7011711378898879, recall=0.5788816307773108, fmeasure=0.5546358872850216)),\n",
              "    'rouge2': AggregateScore(low=Score(precision=0.201369957010582, recall=0.2842469690635452, fmeasure=0.23184706103983826), mid=Score(precision=0.37977678571428575, recall=0.3649839743589744, fmeasure=0.3395841486329334), high=Score(precision=0.5947123015873016, recall=0.44696431681995535, fmeasure=0.4557378513420872)),\n",
              "    'rougeL': AggregateScore(low=Score(precision=0.302508520019953, recall=0.4562434348739496, fmeasure=0.3647937616628654), mid=Score(precision=0.486051973094656, recall=0.50515581232493, fmeasure=0.45737791195414446), high=Score(precision=0.7111880307192806, recall=0.5515187324929972, fmeasure=0.5500005929791271)),\n",
              "    'rougeLsum': AggregateScore(low=Score(precision=0.30700593656005243, recall=0.4568150385154061, fmeasure=0.37108144700480494), mid=Score(precision=0.48493334240285463, recall=0.5070815826330533, fmeasure=0.45903410032021613), high=Score(precision=0.7032467532467531, recall=0.5530812324929971, fmeasure=0.5512118864295097))}]}]"
            ]
          },
          "metadata": {
            "tags": []
          },
          "execution_count": 12
        }
      ]
    }
  ]
}